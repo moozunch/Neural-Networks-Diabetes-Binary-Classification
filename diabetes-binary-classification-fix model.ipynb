{
 "cells": [
  {
   "cell_type": "markdown",
   "id": "5df2e392",
   "metadata": {
    "papermill": {
     "duration": 0.008087,
     "end_time": "2025-03-04T07:17:44.152591",
     "exception": false,
     "start_time": "2025-03-04T07:17:44.144504",
     "status": "completed"
    },
    "tags": []
   },
   "source": [
    "# Import dataset"
   ]
  },
  {
   "cell_type": "code",
   "execution_count": 1,
   "id": "8cc44181",
   "metadata": {
    "execution": {
     "iopub.execute_input": "2025-03-04T07:17:44.169428Z",
     "iopub.status.busy": "2025-03-04T07:17:44.168911Z",
     "iopub.status.idle": "2025-03-04T07:17:45.137032Z",
     "shell.execute_reply": "2025-03-04T07:17:45.136047Z"
    },
    "papermill": {
     "duration": 0.978808,
     "end_time": "2025-03-04T07:17:45.139145",
     "exception": false,
     "start_time": "2025-03-04T07:17:44.160337",
     "status": "completed"
    },
    "tags": []
   },
   "outputs": [],
   "source": [
    "import pandas as pd"
   ]
  },
  {
   "cell_type": "code",
   "execution_count": 2,
   "id": "b5430381",
   "metadata": {
    "_cell_guid": "b1076dfc-b9ad-4769-8c92-a6c4dae69d19",
    "_uuid": "8f2839f25d086af736a60e9eeb907d3b93b6e0e5",
    "execution": {
     "iopub.execute_input": "2025-03-04T07:17:45.156290Z",
     "iopub.status.busy": "2025-03-04T07:17:45.155749Z",
     "iopub.status.idle": "2025-03-04T07:17:45.243008Z",
     "shell.execute_reply": "2025-03-04T07:17:45.241861Z"
    },
    "papermill": {
     "duration": 0.098075,
     "end_time": "2025-03-04T07:17:45.245026",
     "exception": false,
     "start_time": "2025-03-04T07:17:45.146951",
     "status": "completed"
    },
    "tags": []
   },
   "outputs": [
    {
     "data": {
      "text/html": [
       "<div>\n",
       "<style scoped>\n",
       "    .dataframe tbody tr th:only-of-type {\n",
       "        vertical-align: middle;\n",
       "    }\n",
       "\n",
       "    .dataframe tbody tr th {\n",
       "        vertical-align: top;\n",
       "    }\n",
       "\n",
       "    .dataframe thead th {\n",
       "        text-align: right;\n",
       "    }\n",
       "</style>\n",
       "<table border=\"1\" class=\"dataframe\">\n",
       "  <thead>\n",
       "    <tr style=\"text-align: right;\">\n",
       "      <th></th>\n",
       "      <th>PatientID</th>\n",
       "      <th>Age</th>\n",
       "      <th>Gender</th>\n",
       "      <th>Ethnicity</th>\n",
       "      <th>SocioeconomicStatus</th>\n",
       "      <th>EducationLevel</th>\n",
       "      <th>BMI</th>\n",
       "      <th>Smoking</th>\n",
       "      <th>AlcoholConsumption</th>\n",
       "      <th>PhysicalActivity</th>\n",
       "      <th>...</th>\n",
       "      <th>TinglingHandsFeet</th>\n",
       "      <th>QualityOfLifeScore</th>\n",
       "      <th>HeavyMetalsExposure</th>\n",
       "      <th>OccupationalExposureChemicals</th>\n",
       "      <th>WaterQuality</th>\n",
       "      <th>MedicalCheckupsFrequency</th>\n",
       "      <th>MedicationAdherence</th>\n",
       "      <th>HealthLiteracy</th>\n",
       "      <th>Diagnosis</th>\n",
       "      <th>DoctorInCharge</th>\n",
       "    </tr>\n",
       "  </thead>\n",
       "  <tbody>\n",
       "    <tr>\n",
       "      <th>0</th>\n",
       "      <td>6000</td>\n",
       "      <td>44</td>\n",
       "      <td>0</td>\n",
       "      <td>1</td>\n",
       "      <td>2</td>\n",
       "      <td>1</td>\n",
       "      <td>32.985284</td>\n",
       "      <td>1</td>\n",
       "      <td>4.499365</td>\n",
       "      <td>2.443385</td>\n",
       "      <td>...</td>\n",
       "      <td>1</td>\n",
       "      <td>73.765109</td>\n",
       "      <td>0</td>\n",
       "      <td>0</td>\n",
       "      <td>0</td>\n",
       "      <td>1.782724</td>\n",
       "      <td>4.486980</td>\n",
       "      <td>7.211349</td>\n",
       "      <td>1</td>\n",
       "      <td>Confidential</td>\n",
       "    </tr>\n",
       "    <tr>\n",
       "      <th>1</th>\n",
       "      <td>6001</td>\n",
       "      <td>51</td>\n",
       "      <td>1</td>\n",
       "      <td>0</td>\n",
       "      <td>1</td>\n",
       "      <td>2</td>\n",
       "      <td>39.916764</td>\n",
       "      <td>0</td>\n",
       "      <td>1.578919</td>\n",
       "      <td>8.301264</td>\n",
       "      <td>...</td>\n",
       "      <td>0</td>\n",
       "      <td>91.445753</td>\n",
       "      <td>0</td>\n",
       "      <td>0</td>\n",
       "      <td>1</td>\n",
       "      <td>3.381070</td>\n",
       "      <td>5.961705</td>\n",
       "      <td>5.024612</td>\n",
       "      <td>1</td>\n",
       "      <td>Confidential</td>\n",
       "    </tr>\n",
       "    <tr>\n",
       "      <th>2</th>\n",
       "      <td>6002</td>\n",
       "      <td>89</td>\n",
       "      <td>1</td>\n",
       "      <td>0</td>\n",
       "      <td>1</td>\n",
       "      <td>3</td>\n",
       "      <td>19.782251</td>\n",
       "      <td>0</td>\n",
       "      <td>1.177301</td>\n",
       "      <td>6.103395</td>\n",
       "      <td>...</td>\n",
       "      <td>0</td>\n",
       "      <td>54.485744</td>\n",
       "      <td>0</td>\n",
       "      <td>0</td>\n",
       "      <td>0</td>\n",
       "      <td>2.701019</td>\n",
       "      <td>8.950821</td>\n",
       "      <td>7.034944</td>\n",
       "      <td>0</td>\n",
       "      <td>Confidential</td>\n",
       "    </tr>\n",
       "    <tr>\n",
       "      <th>3</th>\n",
       "      <td>6003</td>\n",
       "      <td>21</td>\n",
       "      <td>1</td>\n",
       "      <td>1</td>\n",
       "      <td>1</td>\n",
       "      <td>2</td>\n",
       "      <td>32.376881</td>\n",
       "      <td>1</td>\n",
       "      <td>1.714621</td>\n",
       "      <td>8.645465</td>\n",
       "      <td>...</td>\n",
       "      <td>0</td>\n",
       "      <td>77.866758</td>\n",
       "      <td>0</td>\n",
       "      <td>0</td>\n",
       "      <td>1</td>\n",
       "      <td>1.409056</td>\n",
       "      <td>3.124769</td>\n",
       "      <td>4.717774</td>\n",
       "      <td>0</td>\n",
       "      <td>Confidential</td>\n",
       "    </tr>\n",
       "    <tr>\n",
       "      <th>4</th>\n",
       "      <td>6004</td>\n",
       "      <td>27</td>\n",
       "      <td>1</td>\n",
       "      <td>0</td>\n",
       "      <td>1</td>\n",
       "      <td>3</td>\n",
       "      <td>16.808600</td>\n",
       "      <td>0</td>\n",
       "      <td>15.462549</td>\n",
       "      <td>4.629383</td>\n",
       "      <td>...</td>\n",
       "      <td>0</td>\n",
       "      <td>37.731808</td>\n",
       "      <td>0</td>\n",
       "      <td>0</td>\n",
       "      <td>0</td>\n",
       "      <td>1.218452</td>\n",
       "      <td>6.977741</td>\n",
       "      <td>7.887940</td>\n",
       "      <td>0</td>\n",
       "      <td>Confidential</td>\n",
       "    </tr>\n",
       "  </tbody>\n",
       "</table>\n",
       "<p>5 rows × 46 columns</p>\n",
       "</div>"
      ],
      "text/plain": [
       "   PatientID  Age  Gender  Ethnicity  SocioeconomicStatus  EducationLevel  \\\n",
       "0       6000   44       0          1                    2               1   \n",
       "1       6001   51       1          0                    1               2   \n",
       "2       6002   89       1          0                    1               3   \n",
       "3       6003   21       1          1                    1               2   \n",
       "4       6004   27       1          0                    1               3   \n",
       "\n",
       "         BMI  Smoking  AlcoholConsumption  PhysicalActivity  ...  \\\n",
       "0  32.985284        1            4.499365          2.443385  ...   \n",
       "1  39.916764        0            1.578919          8.301264  ...   \n",
       "2  19.782251        0            1.177301          6.103395  ...   \n",
       "3  32.376881        1            1.714621          8.645465  ...   \n",
       "4  16.808600        0           15.462549          4.629383  ...   \n",
       "\n",
       "   TinglingHandsFeet  QualityOfLifeScore  HeavyMetalsExposure  \\\n",
       "0                  1           73.765109                    0   \n",
       "1                  0           91.445753                    0   \n",
       "2                  0           54.485744                    0   \n",
       "3                  0           77.866758                    0   \n",
       "4                  0           37.731808                    0   \n",
       "\n",
       "   OccupationalExposureChemicals  WaterQuality  MedicalCheckupsFrequency  \\\n",
       "0                              0             0                  1.782724   \n",
       "1                              0             1                  3.381070   \n",
       "2                              0             0                  2.701019   \n",
       "3                              0             1                  1.409056   \n",
       "4                              0             0                  1.218452   \n",
       "\n",
       "   MedicationAdherence  HealthLiteracy  Diagnosis  DoctorInCharge  \n",
       "0             4.486980        7.211349          1    Confidential  \n",
       "1             5.961705        5.024612          1    Confidential  \n",
       "2             8.950821        7.034944          0    Confidential  \n",
       "3             3.124769        4.717774          0    Confidential  \n",
       "4             6.977741        7.887940          0    Confidential  \n",
       "\n",
       "[5 rows x 46 columns]"
      ]
     },
     "execution_count": 2,
     "metadata": {},
     "output_type": "execute_result"
    }
   ],
   "source": [
    "# Load data\n",
    "df = pd.read_csv(\"/kaggle/input/diabetes-health-dataset-analysis/diabetes_data.csv\")\n",
    "df.head()"
   ]
  },
  {
   "cell_type": "markdown",
   "id": "d97081a0",
   "metadata": {
    "papermill": {
     "duration": 0.007509,
     "end_time": "2025-03-04T07:17:45.260631",
     "exception": false,
     "start_time": "2025-03-04T07:17:45.253122",
     "status": "completed"
    },
    "tags": []
   },
   "source": [
    "# Data Cleaning"
   ]
  },
  {
   "cell_type": "code",
   "execution_count": 3,
   "id": "3dd74e29",
   "metadata": {
    "execution": {
     "iopub.execute_input": "2025-03-04T07:17:45.277804Z",
     "iopub.status.busy": "2025-03-04T07:17:45.277291Z",
     "iopub.status.idle": "2025-03-04T07:17:45.307076Z",
     "shell.execute_reply": "2025-03-04T07:17:45.305711Z"
    },
    "papermill": {
     "duration": 0.040445,
     "end_time": "2025-03-04T07:17:45.308905",
     "exception": false,
     "start_time": "2025-03-04T07:17:45.268460",
     "status": "completed"
    },
    "tags": []
   },
   "outputs": [
    {
     "name": "stdout",
     "output_type": "stream",
     "text": [
      "<class 'pandas.core.frame.DataFrame'>\n",
      "RangeIndex: 1879 entries, 0 to 1878\n",
      "Data columns (total 46 columns):\n",
      " #   Column                         Non-Null Count  Dtype  \n",
      "---  ------                         --------------  -----  \n",
      " 0   PatientID                      1879 non-null   int64  \n",
      " 1   Age                            1879 non-null   int64  \n",
      " 2   Gender                         1879 non-null   int64  \n",
      " 3   Ethnicity                      1879 non-null   int64  \n",
      " 4   SocioeconomicStatus            1879 non-null   int64  \n",
      " 5   EducationLevel                 1879 non-null   int64  \n",
      " 6   BMI                            1879 non-null   float64\n",
      " 7   Smoking                        1879 non-null   int64  \n",
      " 8   AlcoholConsumption             1879 non-null   float64\n",
      " 9   PhysicalActivity               1879 non-null   float64\n",
      " 10  DietQuality                    1879 non-null   float64\n",
      " 11  SleepQuality                   1879 non-null   float64\n",
      " 12  FamilyHistoryDiabetes          1879 non-null   int64  \n",
      " 13  GestationalDiabetes            1879 non-null   int64  \n",
      " 14  PolycysticOvarySyndrome        1879 non-null   int64  \n",
      " 15  PreviousPreDiabetes            1879 non-null   int64  \n",
      " 16  Hypertension                   1879 non-null   int64  \n",
      " 17  SystolicBP                     1879 non-null   int64  \n",
      " 18  DiastolicBP                    1879 non-null   int64  \n",
      " 19  FastingBloodSugar              1879 non-null   float64\n",
      " 20  HbA1c                          1879 non-null   float64\n",
      " 21  SerumCreatinine                1879 non-null   float64\n",
      " 22  BUNLevels                      1879 non-null   float64\n",
      " 23  CholesterolTotal               1879 non-null   float64\n",
      " 24  CholesterolLDL                 1879 non-null   float64\n",
      " 25  CholesterolHDL                 1879 non-null   float64\n",
      " 26  CholesterolTriglycerides       1879 non-null   float64\n",
      " 27  AntihypertensiveMedications    1879 non-null   int64  \n",
      " 28  Statins                        1879 non-null   int64  \n",
      " 29  AntidiabeticMedications        1879 non-null   int64  \n",
      " 30  FrequentUrination              1879 non-null   int64  \n",
      " 31  ExcessiveThirst                1879 non-null   int64  \n",
      " 32  UnexplainedWeightLoss          1879 non-null   int64  \n",
      " 33  FatigueLevels                  1879 non-null   float64\n",
      " 34  BlurredVision                  1879 non-null   int64  \n",
      " 35  SlowHealingSores               1879 non-null   int64  \n",
      " 36  TinglingHandsFeet              1879 non-null   int64  \n",
      " 37  QualityOfLifeScore             1879 non-null   float64\n",
      " 38  HeavyMetalsExposure            1879 non-null   int64  \n",
      " 39  OccupationalExposureChemicals  1879 non-null   int64  \n",
      " 40  WaterQuality                   1879 non-null   int64  \n",
      " 41  MedicalCheckupsFrequency       1879 non-null   float64\n",
      " 42  MedicationAdherence            1879 non-null   float64\n",
      " 43  HealthLiteracy                 1879 non-null   float64\n",
      " 44  Diagnosis                      1879 non-null   int64  \n",
      " 45  DoctorInCharge                 1879 non-null   object \n",
      "dtypes: float64(18), int64(27), object(1)\n",
      "memory usage: 675.4+ KB\n"
     ]
    }
   ],
   "source": [
    "df.info()"
   ]
  },
  {
   "cell_type": "markdown",
   "id": "10cafabb",
   "metadata": {
    "papermill": {
     "duration": 0.0078,
     "end_time": "2025-03-04T07:17:45.324833",
     "exception": false,
     "start_time": "2025-03-04T07:17:45.317033",
     "status": "completed"
    },
    "tags": []
   },
   "source": [
    "# Split Atribute and Label"
   ]
  },
  {
   "cell_type": "code",
   "execution_count": 4,
   "id": "a48de60d",
   "metadata": {
    "execution": {
     "iopub.execute_input": "2025-03-04T07:17:45.341991Z",
     "iopub.status.busy": "2025-03-04T07:17:45.341627Z",
     "iopub.status.idle": "2025-03-04T07:17:45.354895Z",
     "shell.execute_reply": "2025-03-04T07:17:45.353695Z"
    },
    "papermill": {
     "duration": 0.024259,
     "end_time": "2025-03-04T07:17:45.356908",
     "exception": false,
     "start_time": "2025-03-04T07:17:45.332649",
     "status": "completed"
    },
    "tags": []
   },
   "outputs": [
    {
     "name": "stdout",
     "output_type": "stream",
     "text": [
      "<class 'pandas.core.frame.DataFrame'>\n",
      "RangeIndex: 1879 entries, 0 to 1878\n",
      "Data columns (total 40 columns):\n",
      " #   Column                         Non-Null Count  Dtype  \n",
      "---  ------                         --------------  -----  \n",
      " 0   Age                            1879 non-null   int64  \n",
      " 1   BMI                            1879 non-null   float64\n",
      " 2   Smoking                        1879 non-null   int64  \n",
      " 3   AlcoholConsumption             1879 non-null   float64\n",
      " 4   PhysicalActivity               1879 non-null   float64\n",
      " 5   DietQuality                    1879 non-null   float64\n",
      " 6   SleepQuality                   1879 non-null   float64\n",
      " 7   FamilyHistoryDiabetes          1879 non-null   int64  \n",
      " 8   GestationalDiabetes            1879 non-null   int64  \n",
      " 9   PolycysticOvarySyndrome        1879 non-null   int64  \n",
      " 10  PreviousPreDiabetes            1879 non-null   int64  \n",
      " 11  Hypertension                   1879 non-null   int64  \n",
      " 12  SystolicBP                     1879 non-null   int64  \n",
      " 13  DiastolicBP                    1879 non-null   int64  \n",
      " 14  FastingBloodSugar              1879 non-null   float64\n",
      " 15  HbA1c                          1879 non-null   float64\n",
      " 16  SerumCreatinine                1879 non-null   float64\n",
      " 17  BUNLevels                      1879 non-null   float64\n",
      " 18  CholesterolTotal               1879 non-null   float64\n",
      " 19  CholesterolLDL                 1879 non-null   float64\n",
      " 20  CholesterolHDL                 1879 non-null   float64\n",
      " 21  CholesterolTriglycerides       1879 non-null   float64\n",
      " 22  AntihypertensiveMedications    1879 non-null   int64  \n",
      " 23  Statins                        1879 non-null   int64  \n",
      " 24  AntidiabeticMedications        1879 non-null   int64  \n",
      " 25  FrequentUrination              1879 non-null   int64  \n",
      " 26  ExcessiveThirst                1879 non-null   int64  \n",
      " 27  UnexplainedWeightLoss          1879 non-null   int64  \n",
      " 28  FatigueLevels                  1879 non-null   float64\n",
      " 29  BlurredVision                  1879 non-null   int64  \n",
      " 30  SlowHealingSores               1879 non-null   int64  \n",
      " 31  TinglingHandsFeet              1879 non-null   int64  \n",
      " 32  QualityOfLifeScore             1879 non-null   float64\n",
      " 33  HeavyMetalsExposure            1879 non-null   int64  \n",
      " 34  OccupationalExposureChemicals  1879 non-null   int64  \n",
      " 35  WaterQuality                   1879 non-null   int64  \n",
      " 36  MedicalCheckupsFrequency       1879 non-null   float64\n",
      " 37  MedicationAdherence            1879 non-null   float64\n",
      " 38  HealthLiteracy                 1879 non-null   float64\n",
      " 39  Diagnosis                      1879 non-null   int64  \n",
      "dtypes: float64(18), int64(22)\n",
      "memory usage: 587.3 KB\n"
     ]
    }
   ],
   "source": [
    "#Drop yang tidak digunakan\n",
    "data = df.drop(columns=['PatientID','Gender','Ethnicity','SocioeconomicStatus','EducationLevel','DoctorInCharge'])\n",
    "data.info()"
   ]
  },
  {
   "cell_type": "code",
   "execution_count": 5,
   "id": "c60ca01b",
   "metadata": {
    "execution": {
     "iopub.execute_input": "2025-03-04T07:17:45.374578Z",
     "iopub.status.busy": "2025-03-04T07:17:45.374235Z",
     "iopub.status.idle": "2025-03-04T07:17:45.387066Z",
     "shell.execute_reply": "2025-03-04T07:17:45.385776Z"
    },
    "papermill": {
     "duration": 0.023495,
     "end_time": "2025-03-04T07:17:45.388766",
     "exception": false,
     "start_time": "2025-03-04T07:17:45.365271",
     "status": "completed"
    },
    "tags": []
   },
   "outputs": [
    {
     "name": "stdout",
     "output_type": "stream",
     "text": [
      "<class 'pandas.core.frame.DataFrame'>\n",
      "RangeIndex: 1879 entries, 0 to 1878\n",
      "Data columns (total 39 columns):\n",
      " #   Column                         Non-Null Count  Dtype  \n",
      "---  ------                         --------------  -----  \n",
      " 0   Age                            1879 non-null   int64  \n",
      " 1   BMI                            1879 non-null   float64\n",
      " 2   Smoking                        1879 non-null   int64  \n",
      " 3   AlcoholConsumption             1879 non-null   float64\n",
      " 4   PhysicalActivity               1879 non-null   float64\n",
      " 5   DietQuality                    1879 non-null   float64\n",
      " 6   SleepQuality                   1879 non-null   float64\n",
      " 7   FamilyHistoryDiabetes          1879 non-null   int64  \n",
      " 8   GestationalDiabetes            1879 non-null   int64  \n",
      " 9   PolycysticOvarySyndrome        1879 non-null   int64  \n",
      " 10  PreviousPreDiabetes            1879 non-null   int64  \n",
      " 11  Hypertension                   1879 non-null   int64  \n",
      " 12  SystolicBP                     1879 non-null   int64  \n",
      " 13  DiastolicBP                    1879 non-null   int64  \n",
      " 14  FastingBloodSugar              1879 non-null   float64\n",
      " 15  HbA1c                          1879 non-null   float64\n",
      " 16  SerumCreatinine                1879 non-null   float64\n",
      " 17  BUNLevels                      1879 non-null   float64\n",
      " 18  CholesterolTotal               1879 non-null   float64\n",
      " 19  CholesterolLDL                 1879 non-null   float64\n",
      " 20  CholesterolHDL                 1879 non-null   float64\n",
      " 21  CholesterolTriglycerides       1879 non-null   float64\n",
      " 22  AntihypertensiveMedications    1879 non-null   int64  \n",
      " 23  Statins                        1879 non-null   int64  \n",
      " 24  AntidiabeticMedications        1879 non-null   int64  \n",
      " 25  FrequentUrination              1879 non-null   int64  \n",
      " 26  ExcessiveThirst                1879 non-null   int64  \n",
      " 27  UnexplainedWeightLoss          1879 non-null   int64  \n",
      " 28  FatigueLevels                  1879 non-null   float64\n",
      " 29  BlurredVision                  1879 non-null   int64  \n",
      " 30  SlowHealingSores               1879 non-null   int64  \n",
      " 31  TinglingHandsFeet              1879 non-null   int64  \n",
      " 32  QualityOfLifeScore             1879 non-null   float64\n",
      " 33  HeavyMetalsExposure            1879 non-null   int64  \n",
      " 34  OccupationalExposureChemicals  1879 non-null   int64  \n",
      " 35  WaterQuality                   1879 non-null   int64  \n",
      " 36  MedicalCheckupsFrequency       1879 non-null   float64\n",
      " 37  MedicationAdherence            1879 non-null   float64\n",
      " 38  HealthLiteracy                 1879 non-null   float64\n",
      "dtypes: float64(18), int64(21)\n",
      "memory usage: 572.6 KB\n"
     ]
    }
   ],
   "source": [
    "y = data['Diagnosis'] #ambil diagnosis saja\n",
    "del data['Diagnosis'] #diagnosis dihapus dari data\n",
    "data.info()"
   ]
  },
  {
   "cell_type": "code",
   "execution_count": 6,
   "id": "f3b5fba8",
   "metadata": {
    "execution": {
     "iopub.execute_input": "2025-03-04T07:17:45.406405Z",
     "iopub.status.busy": "2025-03-04T07:17:45.406062Z",
     "iopub.status.idle": "2025-03-04T07:17:45.410210Z",
     "shell.execute_reply": "2025-03-04T07:17:45.409223Z"
    },
    "papermill": {
     "duration": 0.014844,
     "end_time": "2025-03-04T07:17:45.411892",
     "exception": false,
     "start_time": "2025-03-04T07:17:45.397048",
     "status": "completed"
    },
    "tags": []
   },
   "outputs": [],
   "source": [
    "x = data\n",
    "del data"
   ]
  },
  {
   "cell_type": "code",
   "execution_count": 7,
   "id": "88e1136d",
   "metadata": {
    "execution": {
     "iopub.execute_input": "2025-03-04T07:17:45.429613Z",
     "iopub.status.busy": "2025-03-04T07:17:45.429242Z",
     "iopub.status.idle": "2025-03-04T07:17:45.449933Z",
     "shell.execute_reply": "2025-03-04T07:17:45.448871Z"
    },
    "papermill": {
     "duration": 0.031822,
     "end_time": "2025-03-04T07:17:45.452086",
     "exception": false,
     "start_time": "2025-03-04T07:17:45.420264",
     "status": "completed"
    },
    "tags": []
   },
   "outputs": [
    {
     "data": {
      "text/html": [
       "<div>\n",
       "<style scoped>\n",
       "    .dataframe tbody tr th:only-of-type {\n",
       "        vertical-align: middle;\n",
       "    }\n",
       "\n",
       "    .dataframe tbody tr th {\n",
       "        vertical-align: top;\n",
       "    }\n",
       "\n",
       "    .dataframe thead th {\n",
       "        text-align: right;\n",
       "    }\n",
       "</style>\n",
       "<table border=\"1\" class=\"dataframe\">\n",
       "  <thead>\n",
       "    <tr style=\"text-align: right;\">\n",
       "      <th></th>\n",
       "      <th>Age</th>\n",
       "      <th>BMI</th>\n",
       "      <th>Smoking</th>\n",
       "      <th>AlcoholConsumption</th>\n",
       "      <th>PhysicalActivity</th>\n",
       "      <th>DietQuality</th>\n",
       "      <th>SleepQuality</th>\n",
       "      <th>FamilyHistoryDiabetes</th>\n",
       "      <th>GestationalDiabetes</th>\n",
       "      <th>PolycysticOvarySyndrome</th>\n",
       "      <th>...</th>\n",
       "      <th>BlurredVision</th>\n",
       "      <th>SlowHealingSores</th>\n",
       "      <th>TinglingHandsFeet</th>\n",
       "      <th>QualityOfLifeScore</th>\n",
       "      <th>HeavyMetalsExposure</th>\n",
       "      <th>OccupationalExposureChemicals</th>\n",
       "      <th>WaterQuality</th>\n",
       "      <th>MedicalCheckupsFrequency</th>\n",
       "      <th>MedicationAdherence</th>\n",
       "      <th>HealthLiteracy</th>\n",
       "    </tr>\n",
       "  </thead>\n",
       "  <tbody>\n",
       "    <tr>\n",
       "      <th>0</th>\n",
       "      <td>44</td>\n",
       "      <td>32.985284</td>\n",
       "      <td>1</td>\n",
       "      <td>4.499365</td>\n",
       "      <td>2.443385</td>\n",
       "      <td>4.898831</td>\n",
       "      <td>4.049885</td>\n",
       "      <td>1</td>\n",
       "      <td>1</td>\n",
       "      <td>0</td>\n",
       "      <td>...</td>\n",
       "      <td>0</td>\n",
       "      <td>0</td>\n",
       "      <td>1</td>\n",
       "      <td>73.765109</td>\n",
       "      <td>0</td>\n",
       "      <td>0</td>\n",
       "      <td>0</td>\n",
       "      <td>1.782724</td>\n",
       "      <td>4.486980</td>\n",
       "      <td>7.211349</td>\n",
       "    </tr>\n",
       "    <tr>\n",
       "      <th>1</th>\n",
       "      <td>51</td>\n",
       "      <td>39.916764</td>\n",
       "      <td>0</td>\n",
       "      <td>1.578919</td>\n",
       "      <td>8.301264</td>\n",
       "      <td>8.941093</td>\n",
       "      <td>7.508150</td>\n",
       "      <td>0</td>\n",
       "      <td>0</td>\n",
       "      <td>0</td>\n",
       "      <td>...</td>\n",
       "      <td>0</td>\n",
       "      <td>0</td>\n",
       "      <td>0</td>\n",
       "      <td>91.445753</td>\n",
       "      <td>0</td>\n",
       "      <td>0</td>\n",
       "      <td>1</td>\n",
       "      <td>3.381070</td>\n",
       "      <td>5.961705</td>\n",
       "      <td>5.024612</td>\n",
       "    </tr>\n",
       "    <tr>\n",
       "      <th>2</th>\n",
       "      <td>89</td>\n",
       "      <td>19.782251</td>\n",
       "      <td>0</td>\n",
       "      <td>1.177301</td>\n",
       "      <td>6.103395</td>\n",
       "      <td>7.722543</td>\n",
       "      <td>7.708387</td>\n",
       "      <td>1</td>\n",
       "      <td>0</td>\n",
       "      <td>0</td>\n",
       "      <td>...</td>\n",
       "      <td>0</td>\n",
       "      <td>0</td>\n",
       "      <td>0</td>\n",
       "      <td>54.485744</td>\n",
       "      <td>0</td>\n",
       "      <td>0</td>\n",
       "      <td>0</td>\n",
       "      <td>2.701019</td>\n",
       "      <td>8.950821</td>\n",
       "      <td>7.034944</td>\n",
       "    </tr>\n",
       "    <tr>\n",
       "      <th>3</th>\n",
       "      <td>21</td>\n",
       "      <td>32.376881</td>\n",
       "      <td>1</td>\n",
       "      <td>1.714621</td>\n",
       "      <td>8.645465</td>\n",
       "      <td>4.804044</td>\n",
       "      <td>6.286548</td>\n",
       "      <td>1</td>\n",
       "      <td>1</td>\n",
       "      <td>0</td>\n",
       "      <td>...</td>\n",
       "      <td>0</td>\n",
       "      <td>0</td>\n",
       "      <td>0</td>\n",
       "      <td>77.866758</td>\n",
       "      <td>0</td>\n",
       "      <td>0</td>\n",
       "      <td>1</td>\n",
       "      <td>1.409056</td>\n",
       "      <td>3.124769</td>\n",
       "      <td>4.717774</td>\n",
       "    </tr>\n",
       "    <tr>\n",
       "      <th>4</th>\n",
       "      <td>27</td>\n",
       "      <td>16.808600</td>\n",
       "      <td>0</td>\n",
       "      <td>15.462549</td>\n",
       "      <td>4.629383</td>\n",
       "      <td>2.532756</td>\n",
       "      <td>9.771125</td>\n",
       "      <td>0</td>\n",
       "      <td>0</td>\n",
       "      <td>0</td>\n",
       "      <td>...</td>\n",
       "      <td>0</td>\n",
       "      <td>0</td>\n",
       "      <td>0</td>\n",
       "      <td>37.731808</td>\n",
       "      <td>0</td>\n",
       "      <td>0</td>\n",
       "      <td>0</td>\n",
       "      <td>1.218452</td>\n",
       "      <td>6.977741</td>\n",
       "      <td>7.887940</td>\n",
       "    </tr>\n",
       "  </tbody>\n",
       "</table>\n",
       "<p>5 rows × 39 columns</p>\n",
       "</div>"
      ],
      "text/plain": [
       "   Age        BMI  Smoking  AlcoholConsumption  PhysicalActivity  DietQuality  \\\n",
       "0   44  32.985284        1            4.499365          2.443385     4.898831   \n",
       "1   51  39.916764        0            1.578919          8.301264     8.941093   \n",
       "2   89  19.782251        0            1.177301          6.103395     7.722543   \n",
       "3   21  32.376881        1            1.714621          8.645465     4.804044   \n",
       "4   27  16.808600        0           15.462549          4.629383     2.532756   \n",
       "\n",
       "   SleepQuality  FamilyHistoryDiabetes  GestationalDiabetes  \\\n",
       "0      4.049885                      1                    1   \n",
       "1      7.508150                      0                    0   \n",
       "2      7.708387                      1                    0   \n",
       "3      6.286548                      1                    1   \n",
       "4      9.771125                      0                    0   \n",
       "\n",
       "   PolycysticOvarySyndrome  ...  BlurredVision  SlowHealingSores  \\\n",
       "0                        0  ...              0                 0   \n",
       "1                        0  ...              0                 0   \n",
       "2                        0  ...              0                 0   \n",
       "3                        0  ...              0                 0   \n",
       "4                        0  ...              0                 0   \n",
       "\n",
       "   TinglingHandsFeet  QualityOfLifeScore  HeavyMetalsExposure  \\\n",
       "0                  1           73.765109                    0   \n",
       "1                  0           91.445753                    0   \n",
       "2                  0           54.485744                    0   \n",
       "3                  0           77.866758                    0   \n",
       "4                  0           37.731808                    0   \n",
       "\n",
       "   OccupationalExposureChemicals  WaterQuality  MedicalCheckupsFrequency  \\\n",
       "0                              0             0                  1.782724   \n",
       "1                              0             1                  3.381070   \n",
       "2                              0             0                  2.701019   \n",
       "3                              0             1                  1.409056   \n",
       "4                              0             0                  1.218452   \n",
       "\n",
       "   MedicationAdherence  HealthLiteracy  \n",
       "0             4.486980        7.211349  \n",
       "1             5.961705        5.024612  \n",
       "2             8.950821        7.034944  \n",
       "3             3.124769        4.717774  \n",
       "4             6.977741        7.887940  \n",
       "\n",
       "[5 rows x 39 columns]"
      ]
     },
     "execution_count": 7,
     "metadata": {},
     "output_type": "execute_result"
    }
   ],
   "source": [
    "x.head()"
   ]
  },
  {
   "cell_type": "markdown",
   "id": "cccc66c5",
   "metadata": {
    "papermill": {
     "duration": 0.008276,
     "end_time": "2025-03-04T07:17:45.469291",
     "exception": false,
     "start_time": "2025-03-04T07:17:45.461015",
     "status": "completed"
    },
    "tags": []
   },
   "source": [
    "note: Fungsi StandardScaler dari sklearn.preprocessing digunakan untuk menstandarisasi fitur dalam dataset kamu, biasanya agar setiap fitur memiliki mean = 0 dan standar deviasi = 1. Ini penting terutama untuk algoritma yang sensitif terhadap skala fitur, seperti SVM, K-means, dan neural networks. Perubahannya nampak pas di transform tapi tetap harus di dataframe kan alias kek kayak table data itu pakai library pandas"
   ]
  },
  {
   "cell_type": "markdown",
   "id": "bd01da3d",
   "metadata": {
    "papermill": {
     "duration": 0.008272,
     "end_time": "2025-03-04T07:17:45.488034",
     "exception": false,
     "start_time": "2025-03-04T07:17:45.479762",
     "status": "completed"
    },
    "tags": []
   },
   "source": [
    "# Normalization"
   ]
  },
  {
   "cell_type": "markdown",
   "id": "6b821fe3",
   "metadata": {
    "papermill": {
     "duration": 0.008079,
     "end_time": "2025-03-04T07:17:45.504568",
     "exception": false,
     "start_time": "2025-03-04T07:17:45.496489",
     "status": "completed"
    },
    "tags": []
   },
   "source": [
    "### **> PERBAIKAN: Karena data banyak outlier, pakai robustScaler instead of StandartScaler awalnya**"
   ]
  },
  {
   "cell_type": "code",
   "execution_count": 8,
   "id": "bfc398c7",
   "metadata": {
    "execution": {
     "iopub.execute_input": "2025-03-04T07:17:45.522647Z",
     "iopub.status.busy": "2025-03-04T07:17:45.522283Z",
     "iopub.status.idle": "2025-03-04T07:17:46.972745Z",
     "shell.execute_reply": "2025-03-04T07:17:46.971565Z"
    },
    "papermill": {
     "duration": 1.461661,
     "end_time": "2025-03-04T07:17:46.974657",
     "exception": false,
     "start_time": "2025-03-04T07:17:45.512996",
     "status": "completed"
    },
    "tags": []
   },
   "outputs": [],
   "source": [
    "from sklearn.preprocessing import RobustScaler\n",
    "scaler = RobustScaler()\n",
    "scaler.fit(x)\n",
    "scaled_x = scaler.transform(x)\n",
    "scaled_x = pd.DataFrame(scaled_x, columns = x.columns)"
   ]
  },
  {
   "cell_type": "code",
   "execution_count": 9,
   "id": "810586ec",
   "metadata": {
    "execution": {
     "iopub.execute_input": "2025-03-04T07:17:46.993163Z",
     "iopub.status.busy": "2025-03-04T07:17:46.992565Z",
     "iopub.status.idle": "2025-03-04T07:17:47.016581Z",
     "shell.execute_reply": "2025-03-04T07:17:47.015515Z"
    },
    "papermill": {
     "duration": 0.03498,
     "end_time": "2025-03-04T07:17:47.018156",
     "exception": false,
     "start_time": "2025-03-04T07:17:46.983176",
     "status": "completed"
    },
    "tags": []
   },
   "outputs": [
    {
     "data": {
      "text/html": [
       "<div>\n",
       "<style scoped>\n",
       "    .dataframe tbody tr th:only-of-type {\n",
       "        vertical-align: middle;\n",
       "    }\n",
       "\n",
       "    .dataframe tbody tr th {\n",
       "        vertical-align: top;\n",
       "    }\n",
       "\n",
       "    .dataframe thead th {\n",
       "        text-align: right;\n",
       "    }\n",
       "</style>\n",
       "<table border=\"1\" class=\"dataframe\">\n",
       "  <thead>\n",
       "    <tr style=\"text-align: right;\">\n",
       "      <th></th>\n",
       "      <th>Age</th>\n",
       "      <th>BMI</th>\n",
       "      <th>Smoking</th>\n",
       "      <th>AlcoholConsumption</th>\n",
       "      <th>PhysicalActivity</th>\n",
       "      <th>DietQuality</th>\n",
       "      <th>SleepQuality</th>\n",
       "      <th>FamilyHistoryDiabetes</th>\n",
       "      <th>GestationalDiabetes</th>\n",
       "      <th>PolycysticOvarySyndrome</th>\n",
       "      <th>...</th>\n",
       "      <th>BlurredVision</th>\n",
       "      <th>SlowHealingSores</th>\n",
       "      <th>TinglingHandsFeet</th>\n",
       "      <th>QualityOfLifeScore</th>\n",
       "      <th>HeavyMetalsExposure</th>\n",
       "      <th>OccupationalExposureChemicals</th>\n",
       "      <th>WaterQuality</th>\n",
       "      <th>MedicalCheckupsFrequency</th>\n",
       "      <th>MedicationAdherence</th>\n",
       "      <th>HealthLiteracy</th>\n",
       "    </tr>\n",
       "  </thead>\n",
       "  <tbody>\n",
       "    <tr>\n",
       "      <th>0</th>\n",
       "      <td>-0.314286</td>\n",
       "      <td>0.424842</td>\n",
       "      <td>1.0</td>\n",
       "      <td>-0.540653</td>\n",
       "      <td>-0.570203</td>\n",
       "      <td>0.002104</td>\n",
       "      <td>-1.000915</td>\n",
       "      <td>1.0</td>\n",
       "      <td>1.0</td>\n",
       "      <td>0.0</td>\n",
       "      <td>...</td>\n",
       "      <td>0.0</td>\n",
       "      <td>0.0</td>\n",
       "      <td>1.0</td>\n",
       "      <td>0.536616</td>\n",
       "      <td>0.0</td>\n",
       "      <td>0.0</td>\n",
       "      <td>0.0</td>\n",
       "      <td>-0.108274</td>\n",
       "      <td>-0.070065</td>\n",
       "      <td>0.420368</td>\n",
       "    </tr>\n",
       "    <tr>\n",
       "      <th>1</th>\n",
       "      <td>-0.114286</td>\n",
       "      <td>0.984443</td>\n",
       "      <td>0.0</td>\n",
       "      <td>-0.818907</td>\n",
       "      <td>0.620331</td>\n",
       "      <td>0.830563</td>\n",
       "      <td>0.135915</td>\n",
       "      <td>0.0</td>\n",
       "      <td>0.0</td>\n",
       "      <td>0.0</td>\n",
       "      <td>...</td>\n",
       "      <td>0.0</td>\n",
       "      <td>0.0</td>\n",
       "      <td>0.0</td>\n",
       "      <td>0.898117</td>\n",
       "      <td>0.0</td>\n",
       "      <td>0.0</td>\n",
       "      <td>1.0</td>\n",
       "      <td>0.738209</td>\n",
       "      <td>0.219442</td>\n",
       "      <td>-0.002047</td>\n",
       "    </tr>\n",
       "    <tr>\n",
       "      <th>2</th>\n",
       "      <td>0.971429</td>\n",
       "      <td>-0.641081</td>\n",
       "      <td>0.0</td>\n",
       "      <td>-0.857172</td>\n",
       "      <td>0.173644</td>\n",
       "      <td>0.580822</td>\n",
       "      <td>0.201739</td>\n",
       "      <td>1.0</td>\n",
       "      <td>0.0</td>\n",
       "      <td>0.0</td>\n",
       "      <td>...</td>\n",
       "      <td>0.0</td>\n",
       "      <td>0.0</td>\n",
       "      <td>0.0</td>\n",
       "      <td>0.142429</td>\n",
       "      <td>0.0</td>\n",
       "      <td>0.0</td>\n",
       "      <td>0.0</td>\n",
       "      <td>0.378054</td>\n",
       "      <td>0.806244</td>\n",
       "      <td>0.386292</td>\n",
       "    </tr>\n",
       "    <tr>\n",
       "      <th>3</th>\n",
       "      <td>-0.971429</td>\n",
       "      <td>0.375724</td>\n",
       "      <td>1.0</td>\n",
       "      <td>-0.805977</td>\n",
       "      <td>0.690285</td>\n",
       "      <td>-0.017323</td>\n",
       "      <td>-0.265660</td>\n",
       "      <td>1.0</td>\n",
       "      <td>1.0</td>\n",
       "      <td>0.0</td>\n",
       "      <td>...</td>\n",
       "      <td>0.0</td>\n",
       "      <td>0.0</td>\n",
       "      <td>0.0</td>\n",
       "      <td>0.620479</td>\n",
       "      <td>0.0</td>\n",
       "      <td>0.0</td>\n",
       "      <td>1.0</td>\n",
       "      <td>-0.306169</td>\n",
       "      <td>-0.337485</td>\n",
       "      <td>-0.061319</td>\n",
       "    </tr>\n",
       "    <tr>\n",
       "      <th>4</th>\n",
       "      <td>-0.800000</td>\n",
       "      <td>-0.881153</td>\n",
       "      <td>0.0</td>\n",
       "      <td>0.503894</td>\n",
       "      <td>-0.125929</td>\n",
       "      <td>-0.482821</td>\n",
       "      <td>0.879820</td>\n",
       "      <td>0.0</td>\n",
       "      <td>0.0</td>\n",
       "      <td>0.0</td>\n",
       "      <td>...</td>\n",
       "      <td>0.0</td>\n",
       "      <td>0.0</td>\n",
       "      <td>0.0</td>\n",
       "      <td>-0.200124</td>\n",
       "      <td>0.0</td>\n",
       "      <td>0.0</td>\n",
       "      <td>0.0</td>\n",
       "      <td>-0.407113</td>\n",
       "      <td>0.418903</td>\n",
       "      <td>0.551066</td>\n",
       "    </tr>\n",
       "  </tbody>\n",
       "</table>\n",
       "<p>5 rows × 39 columns</p>\n",
       "</div>"
      ],
      "text/plain": [
       "        Age       BMI  Smoking  AlcoholConsumption  PhysicalActivity  \\\n",
       "0 -0.314286  0.424842      1.0           -0.540653         -0.570203   \n",
       "1 -0.114286  0.984443      0.0           -0.818907          0.620331   \n",
       "2  0.971429 -0.641081      0.0           -0.857172          0.173644   \n",
       "3 -0.971429  0.375724      1.0           -0.805977          0.690285   \n",
       "4 -0.800000 -0.881153      0.0            0.503894         -0.125929   \n",
       "\n",
       "   DietQuality  SleepQuality  FamilyHistoryDiabetes  GestationalDiabetes  \\\n",
       "0     0.002104     -1.000915                    1.0                  1.0   \n",
       "1     0.830563      0.135915                    0.0                  0.0   \n",
       "2     0.580822      0.201739                    1.0                  0.0   \n",
       "3    -0.017323     -0.265660                    1.0                  1.0   \n",
       "4    -0.482821      0.879820                    0.0                  0.0   \n",
       "\n",
       "   PolycysticOvarySyndrome  ...  BlurredVision  SlowHealingSores  \\\n",
       "0                      0.0  ...            0.0               0.0   \n",
       "1                      0.0  ...            0.0               0.0   \n",
       "2                      0.0  ...            0.0               0.0   \n",
       "3                      0.0  ...            0.0               0.0   \n",
       "4                      0.0  ...            0.0               0.0   \n",
       "\n",
       "   TinglingHandsFeet  QualityOfLifeScore  HeavyMetalsExposure  \\\n",
       "0                1.0            0.536616                  0.0   \n",
       "1                0.0            0.898117                  0.0   \n",
       "2                0.0            0.142429                  0.0   \n",
       "3                0.0            0.620479                  0.0   \n",
       "4                0.0           -0.200124                  0.0   \n",
       "\n",
       "   OccupationalExposureChemicals  WaterQuality  MedicalCheckupsFrequency  \\\n",
       "0                            0.0           0.0                 -0.108274   \n",
       "1                            0.0           1.0                  0.738209   \n",
       "2                            0.0           0.0                  0.378054   \n",
       "3                            0.0           1.0                 -0.306169   \n",
       "4                            0.0           0.0                 -0.407113   \n",
       "\n",
       "   MedicationAdherence  HealthLiteracy  \n",
       "0            -0.070065        0.420368  \n",
       "1             0.219442       -0.002047  \n",
       "2             0.806244        0.386292  \n",
       "3            -0.337485       -0.061319  \n",
       "4             0.418903        0.551066  \n",
       "\n",
       "[5 rows x 39 columns]"
      ]
     },
     "execution_count": 9,
     "metadata": {},
     "output_type": "execute_result"
    }
   ],
   "source": [
    "scaled_x.head()"
   ]
  },
  {
   "cell_type": "markdown",
   "id": "17235847",
   "metadata": {
    "papermill": {
     "duration": 0.008343,
     "end_time": "2025-03-04T07:17:47.035262",
     "exception": false,
     "start_time": "2025-03-04T07:17:47.026919",
     "status": "completed"
    },
    "tags": []
   },
   "source": [
    "# Split Data"
   ]
  },
  {
   "cell_type": "code",
   "execution_count": 10,
   "id": "20cc216e",
   "metadata": {
    "execution": {
     "iopub.execute_input": "2025-03-04T07:17:47.053680Z",
     "iopub.status.busy": "2025-03-04T07:17:47.053343Z",
     "iopub.status.idle": "2025-03-04T07:17:47.195060Z",
     "shell.execute_reply": "2025-03-04T07:17:47.193871Z"
    },
    "papermill": {
     "duration": 0.152993,
     "end_time": "2025-03-04T07:17:47.196799",
     "exception": false,
     "start_time": "2025-03-04T07:17:47.043806",
     "status": "completed"
    },
    "tags": []
   },
   "outputs": [
    {
     "name": "stdout",
     "output_type": "stream",
     "text": [
      "x_train_scaled: (1315, 39), y_train: (1315,)\n",
      "x_val_scaled: (282, 39), y_val: (282,)\n",
      "x_test_scaled: (282, 39), y_test: (282,)\n"
     ]
    }
   ],
   "source": [
    "from sklearn.model_selection import train_test_split\n",
    "\n",
    "# Split data: 70% train, 15% val, 15% test\n",
    "x_train_scaled, x_temp, y_train, y_temp = train_test_split(scaled_x, y, test_size=0.3, random_state=42)\n",
    "x_val_scaled, x_test_scaled, y_val, y_test = train_test_split(x_temp, y_temp, test_size=0.5, random_state=42)\n",
    "\n",
    "print(f\"x_train_scaled: {x_train_scaled.shape}, y_train: {y_train.shape}\")\n",
    "print(f\"x_val_scaled: {x_val_scaled.shape}, y_val: {y_val.shape}\")\n",
    "print(f\"x_test_scaled: {x_test_scaled.shape}, y_test: {y_test.shape}\")\n"
   ]
  },
  {
   "cell_type": "markdown",
   "id": "9e0cf362",
   "metadata": {
    "papermill": {
     "duration": 0.008501,
     "end_time": "2025-03-04T07:17:47.214305",
     "exception": false,
     "start_time": "2025-03-04T07:17:47.205804",
     "status": "completed"
    },
    "tags": []
   },
   "source": [
    "x_train, y_train → untuk training model\n",
    "x_val_scaled, y_val → untuk validasi saat training (monitoring loss, accuracy, dll.)\n",
    "x_test, y_test → untuk evaluasi akhir setelah training selesai"
   ]
  },
  {
   "cell_type": "code",
   "execution_count": 11,
   "id": "dae3b69b",
   "metadata": {
    "execution": {
     "iopub.execute_input": "2025-03-04T07:17:47.233054Z",
     "iopub.status.busy": "2025-03-04T07:17:47.232638Z",
     "iopub.status.idle": "2025-03-04T07:17:47.239032Z",
     "shell.execute_reply": "2025-03-04T07:17:47.237884Z"
    },
    "papermill": {
     "duration": 0.017796,
     "end_time": "2025-03-04T07:17:47.240856",
     "exception": false,
     "start_time": "2025-03-04T07:17:47.223060",
     "status": "completed"
    },
    "tags": []
   },
   "outputs": [
    {
     "name": "stdout",
     "output_type": "stream",
     "text": [
      "Shape of x_train: (1315, 39)\n",
      "Shape of y_train: (1315,)\n"
     ]
    }
   ],
   "source": [
    "import numpy as np\n",
    "\n",
    "print(\"Shape of x_train:\", x_train_scaled.shape) #used for creating a model\n",
    "print(\"Shape of y_train:\", y_train.shape)\n",
    "     "
   ]
  },
  {
   "cell_type": "markdown",
   "id": "6c25bc90",
   "metadata": {
    "papermill": {
     "duration": 0.008595,
     "end_time": "2025-03-04T07:17:47.258452",
     "exception": false,
     "start_time": "2025-03-04T07:17:47.249857",
     "status": "completed"
    },
    "tags": []
   },
   "source": [
    "# Create a Model\n",
    "\n",
    "Binary classification neural networks"
   ]
  },
  {
   "cell_type": "code",
   "execution_count": 12,
   "id": "401abd37",
   "metadata": {
    "execution": {
     "iopub.execute_input": "2025-03-04T07:17:47.277357Z",
     "iopub.status.busy": "2025-03-04T07:17:47.276879Z",
     "iopub.status.idle": "2025-03-04T07:18:02.831428Z",
     "shell.execute_reply": "2025-03-04T07:18:02.830391Z"
    },
    "papermill": {
     "duration": 15.566397,
     "end_time": "2025-03-04T07:18:02.833539",
     "exception": false,
     "start_time": "2025-03-04T07:17:47.267142",
     "status": "completed"
    },
    "tags": []
   },
   "outputs": [],
   "source": [
    "from tensorflow.keras.models import Sequential\n",
    "from tensorflow.keras.layers import Dense, Input\n",
    "\n",
    "#input layer\n",
    "basic_model = Sequential([\n",
    "    Input(shape=(39,)),  # layer input\n",
    "    Dense(units=16, activation='relu')  # layer hidden\n",
    "])\n",
    "#Input shape nya ngikutin shape x train"
   ]
  },
  {
   "cell_type": "markdown",
   "id": "dbd8c853",
   "metadata": {
    "papermill": {
     "duration": 0.008444,
     "end_time": "2025-03-04T07:18:02.851132",
     "exception": false,
     "start_time": "2025-03-04T07:18:02.842688",
     "status": "completed"
    },
    "tags": []
   },
   "source": [
    "Dense is a type of layer in Keras, representing a fully connected layer. It has 16 units, which means it has 16 neurons.\n",
    "\n",
    "activation='relu' specifies the Rectified Linear Unit (ReLU) activation function, which is commonly used in input or hidden layers of neural networks.\n",
    "\n",
    "input_shape=(13,) indicates the shape of the input data for this layer. In this case, we are using 13 input features (columns)."
   ]
  },
  {
   "cell_type": "code",
   "execution_count": 13,
   "id": "6d9e6c08",
   "metadata": {
    "execution": {
     "iopub.execute_input": "2025-03-04T07:18:02.870997Z",
     "iopub.status.busy": "2025-03-04T07:18:02.870389Z",
     "iopub.status.idle": "2025-03-04T07:18:02.886641Z",
     "shell.execute_reply": "2025-03-04T07:18:02.885587Z"
    },
    "papermill": {
     "duration": 0.028721,
     "end_time": "2025-03-04T07:18:02.888558",
     "exception": false,
     "start_time": "2025-03-04T07:18:02.859837",
     "status": "completed"
    },
    "tags": []
   },
   "outputs": [],
   "source": [
    "#Output layer\n",
    "basic_model.add(Dense(1, activation='sigmoid'))"
   ]
  },
  {
   "cell_type": "markdown",
   "id": "1a190e0f",
   "metadata": {
    "papermill": {
     "duration": 0.008321,
     "end_time": "2025-03-04T07:18:02.905866",
     "exception": false,
     "start_time": "2025-03-04T07:18:02.897545",
     "status": "completed"
    },
    "tags": []
   },
   "source": [
    "Dense adalah layer fully connected, artinya setiap neuron di layer sebelumnya terhubung ke setiap neuron di layer ini.\n",
    "1 menunjukkan jumlah neuron di layer output, yang berarti model hanya menghasilkan satu output.\n",
    "Ini cocok untuk binary classification (klasifikasi biner) — seperti 0 atau 1, ya atau tidak, sakit atau sehat.\n",
    "2. activation='sigmoid'\n",
    "Sigmoid activation function memetakan output ke rentang (0, 1).\n",
    "Rumusnya:\n",
    "Contohnya:\n",
    "0.9 berarti model yakin 90% bahwa output adalah kelas 1 (misalnya \"positif diabetes\").\n",
    "0.1 berarti model yakin 10% bahwa output adalah kelas 1 (atau 90% kelas 0)."
   ]
  },
  {
   "cell_type": "code",
   "execution_count": 14,
   "id": "4fbcd9e0",
   "metadata": {
    "execution": {
     "iopub.execute_input": "2025-03-04T07:18:02.924636Z",
     "iopub.status.busy": "2025-03-04T07:18:02.924120Z",
     "iopub.status.idle": "2025-03-04T07:18:02.934230Z",
     "shell.execute_reply": "2025-03-04T07:18:02.933391Z"
    },
    "papermill": {
     "duration": 0.021558,
     "end_time": "2025-03-04T07:18:02.936121",
     "exception": false,
     "start_time": "2025-03-04T07:18:02.914563",
     "status": "completed"
    },
    "tags": []
   },
   "outputs": [],
   "source": [
    "import tensorflow as tf #import\n",
    "#Optimizer\n",
    "adam = tf.keras.optimizers.Adam(learning_rate=0.001)"
   ]
  },
  {
   "cell_type": "markdown",
   "id": "cead85f1",
   "metadata": {
    "papermill": {
     "duration": 0.008387,
     "end_time": "2025-03-04T07:18:02.953523",
     "exception": false,
     "start_time": "2025-03-04T07:18:02.945136",
     "status": "completed"
    },
    "tags": []
   },
   "source": [
    "# Compile Model"
   ]
  },
  {
   "cell_type": "code",
   "execution_count": 15,
   "id": "2c37e956",
   "metadata": {
    "execution": {
     "iopub.execute_input": "2025-03-04T07:18:02.972148Z",
     "iopub.status.busy": "2025-03-04T07:18:02.971753Z",
     "iopub.status.idle": "2025-03-04T07:18:02.980600Z",
     "shell.execute_reply": "2025-03-04T07:18:02.979712Z"
    },
    "papermill": {
     "duration": 0.020099,
     "end_time": "2025-03-04T07:18:02.982348",
     "exception": false,
     "start_time": "2025-03-04T07:18:02.962249",
     "status": "completed"
    },
    "tags": []
   },
   "outputs": [],
   "source": [
    "basic_model.compile(loss='binary_crossentropy', optimizer=adam, metrics=['accuracy'])"
   ]
  },
  {
   "cell_type": "code",
   "execution_count": 16,
   "id": "d702ae9b",
   "metadata": {
    "execution": {
     "iopub.execute_input": "2025-03-04T07:18:03.001279Z",
     "iopub.status.busy": "2025-03-04T07:18:03.000885Z",
     "iopub.status.idle": "2025-03-04T07:18:03.007442Z",
     "shell.execute_reply": "2025-03-04T07:18:03.006604Z"
    },
    "papermill": {
     "duration": 0.017739,
     "end_time": "2025-03-04T07:18:03.009093",
     "exception": false,
     "start_time": "2025-03-04T07:18:02.991354",
     "status": "completed"
    },
    "tags": []
   },
   "outputs": [],
   "source": [
    "from tensorflow.keras.callbacks import ReduceLROnPlateau, EarlyStopping\n",
    "\n",
    "callbacks = [\n",
    "    ReduceLROnPlateau(monitor='val_loss', factor=0.2, patience=5, min_lr=1e-5),\n",
    "    EarlyStopping(monitor='val_loss', patience=10, restore_best_weights=True)\n",
    "]"
   ]
  },
  {
   "cell_type": "markdown",
   "id": "20dc1472",
   "metadata": {
    "papermill": {
     "duration": 0.008362,
     "end_time": "2025-03-04T07:18:03.026486",
     "exception": false,
     "start_time": "2025-03-04T07:18:03.018124",
     "status": "completed"
    },
    "tags": []
   },
   "source": [
    "# Train Model"
   ]
  },
  {
   "cell_type": "code",
   "execution_count": 17,
   "id": "bfc9cbf7",
   "metadata": {
    "execution": {
     "iopub.execute_input": "2025-03-04T07:18:03.045316Z",
     "iopub.status.busy": "2025-03-04T07:18:03.044927Z",
     "iopub.status.idle": "2025-03-04T07:18:08.140286Z",
     "shell.execute_reply": "2025-03-04T07:18:08.138699Z"
    },
    "papermill": {
     "duration": 5.107402,
     "end_time": "2025-03-04T07:18:08.142628",
     "exception": false,
     "start_time": "2025-03-04T07:18:03.035226",
     "status": "completed"
    },
    "tags": []
   },
   "outputs": [
    {
     "name": "stdout",
     "output_type": "stream",
     "text": [
      "Epoch 1/30\n",
      "\u001b[1m42/42\u001b[0m \u001b[32m━━━━━━━━━━━━━━━━━━━━\u001b[0m\u001b[37m\u001b[0m \u001b[1m1s\u001b[0m 6ms/step - accuracy: 0.4208 - loss: 0.7496 - val_accuracy: 0.5319 - val_loss: 0.7022 - learning_rate: 0.0010\n",
      "Epoch 2/30\n",
      "\u001b[1m42/42\u001b[0m \u001b[32m━━━━━━━━━━━━━━━━━━━━\u001b[0m\u001b[37m\u001b[0m \u001b[1m0s\u001b[0m 2ms/step - accuracy: 0.5595 - loss: 0.6932 - val_accuracy: 0.5887 - val_loss: 0.6670 - learning_rate: 0.0010\n",
      "Epoch 3/30\n",
      "\u001b[1m42/42\u001b[0m \u001b[32m━━━━━━━━━━━━━━━━━━━━\u001b[0m\u001b[37m\u001b[0m \u001b[1m0s\u001b[0m 3ms/step - accuracy: 0.6238 - loss: 0.6667 - val_accuracy: 0.6383 - val_loss: 0.6388 - learning_rate: 0.0010\n",
      "Epoch 4/30\n",
      "\u001b[1m42/42\u001b[0m \u001b[32m━━━━━━━━━━━━━━━━━━━━\u001b[0m\u001b[37m\u001b[0m \u001b[1m0s\u001b[0m 2ms/step - accuracy: 0.6793 - loss: 0.6385 - val_accuracy: 0.6773 - val_loss: 0.6138 - learning_rate: 0.0010\n",
      "Epoch 5/30\n",
      "\u001b[1m42/42\u001b[0m \u001b[32m━━━━━━━━━━━━━━━━━━━━\u001b[0m\u001b[37m\u001b[0m \u001b[1m0s\u001b[0m 2ms/step - accuracy: 0.6936 - loss: 0.6189 - val_accuracy: 0.7128 - val_loss: 0.5884 - learning_rate: 0.0010\n",
      "Epoch 6/30\n",
      "\u001b[1m42/42\u001b[0m \u001b[32m━━━━━━━━━━━━━━━━━━━━\u001b[0m\u001b[37m\u001b[0m \u001b[1m0s\u001b[0m 2ms/step - accuracy: 0.7336 - loss: 0.5855 - val_accuracy: 0.7482 - val_loss: 0.5617 - learning_rate: 0.0010\n",
      "Epoch 7/30\n",
      "\u001b[1m42/42\u001b[0m \u001b[32m━━━━━━━━━━━━━━━━━━━━\u001b[0m\u001b[37m\u001b[0m \u001b[1m0s\u001b[0m 2ms/step - accuracy: 0.7688 - loss: 0.5559 - val_accuracy: 0.7695 - val_loss: 0.5362 - learning_rate: 0.0010\n",
      "Epoch 8/30\n",
      "\u001b[1m42/42\u001b[0m \u001b[32m━━━━━━━━━━━━━━━━━━━━\u001b[0m\u001b[37m\u001b[0m \u001b[1m0s\u001b[0m 2ms/step - accuracy: 0.7619 - loss: 0.5389 - val_accuracy: 0.7801 - val_loss: 0.5101 - learning_rate: 0.0010\n",
      "Epoch 9/30\n",
      "\u001b[1m42/42\u001b[0m \u001b[32m━━━━━━━━━━━━━━━━━━━━\u001b[0m\u001b[37m\u001b[0m \u001b[1m0s\u001b[0m 2ms/step - accuracy: 0.7974 - loss: 0.5032 - val_accuracy: 0.7908 - val_loss: 0.4862 - learning_rate: 0.0010\n",
      "Epoch 10/30\n",
      "\u001b[1m42/42\u001b[0m \u001b[32m━━━━━━━━━━━━━━━━━━━━\u001b[0m\u001b[37m\u001b[0m \u001b[1m0s\u001b[0m 2ms/step - accuracy: 0.8254 - loss: 0.4638 - val_accuracy: 0.8050 - val_loss: 0.4690 - learning_rate: 0.0010\n",
      "Epoch 11/30\n",
      "\u001b[1m42/42\u001b[0m \u001b[32m━━━━━━━━━━━━━━━━━━━━\u001b[0m\u001b[37m\u001b[0m \u001b[1m0s\u001b[0m 2ms/step - accuracy: 0.8407 - loss: 0.4313 - val_accuracy: 0.8050 - val_loss: 0.4500 - learning_rate: 0.0010\n",
      "Epoch 12/30\n",
      "\u001b[1m42/42\u001b[0m \u001b[32m━━━━━━━━━━━━━━━━━━━━\u001b[0m\u001b[37m\u001b[0m \u001b[1m0s\u001b[0m 2ms/step - accuracy: 0.8349 - loss: 0.4233 - val_accuracy: 0.8121 - val_loss: 0.4360 - learning_rate: 0.0010\n",
      "Epoch 13/30\n",
      "\u001b[1m42/42\u001b[0m \u001b[32m━━━━━━━━━━━━━━━━━━━━\u001b[0m\u001b[37m\u001b[0m \u001b[1m0s\u001b[0m 2ms/step - accuracy: 0.8531 - loss: 0.4047 - val_accuracy: 0.8085 - val_loss: 0.4253 - learning_rate: 0.0010\n",
      "Epoch 14/30\n",
      "\u001b[1m42/42\u001b[0m \u001b[32m━━━━━━━━━━━━━━━━━━━━\u001b[0m\u001b[37m\u001b[0m \u001b[1m0s\u001b[0m 2ms/step - accuracy: 0.8427 - loss: 0.3926 - val_accuracy: 0.8085 - val_loss: 0.4186 - learning_rate: 0.0010\n",
      "Epoch 15/30\n",
      "\u001b[1m42/42\u001b[0m \u001b[32m━━━━━━━━━━━━━━━━━━━━\u001b[0m\u001b[37m\u001b[0m \u001b[1m0s\u001b[0m 2ms/step - accuracy: 0.8477 - loss: 0.3801 - val_accuracy: 0.8050 - val_loss: 0.4135 - learning_rate: 0.0010\n",
      "Epoch 16/30\n",
      "\u001b[1m42/42\u001b[0m \u001b[32m━━━━━━━━━━━━━━━━━━━━\u001b[0m\u001b[37m\u001b[0m \u001b[1m0s\u001b[0m 2ms/step - accuracy: 0.8448 - loss: 0.3835 - val_accuracy: 0.8121 - val_loss: 0.4064 - learning_rate: 0.0010\n",
      "Epoch 17/30\n",
      "\u001b[1m42/42\u001b[0m \u001b[32m━━━━━━━━━━━━━━━━━━━━\u001b[0m\u001b[37m\u001b[0m \u001b[1m0s\u001b[0m 2ms/step - accuracy: 0.8614 - loss: 0.3750 - val_accuracy: 0.8121 - val_loss: 0.4034 - learning_rate: 0.0010\n",
      "Epoch 18/30\n",
      "\u001b[1m42/42\u001b[0m \u001b[32m━━━━━━━━━━━━━━━━━━━━\u001b[0m\u001b[37m\u001b[0m \u001b[1m0s\u001b[0m 2ms/step - accuracy: 0.8417 - loss: 0.3666 - val_accuracy: 0.8156 - val_loss: 0.4010 - learning_rate: 0.0010\n",
      "Epoch 19/30\n",
      "\u001b[1m42/42\u001b[0m \u001b[32m━━━━━━━━━━━━━━━━━━━━\u001b[0m\u001b[37m\u001b[0m \u001b[1m0s\u001b[0m 2ms/step - accuracy: 0.8519 - loss: 0.3651 - val_accuracy: 0.8227 - val_loss: 0.3984 - learning_rate: 0.0010\n",
      "Epoch 20/30\n",
      "\u001b[1m42/42\u001b[0m \u001b[32m━━━━━━━━━━━━━━━━━━━━\u001b[0m\u001b[37m\u001b[0m \u001b[1m0s\u001b[0m 2ms/step - accuracy: 0.8483 - loss: 0.3614 - val_accuracy: 0.8227 - val_loss: 0.3973 - learning_rate: 0.0010\n",
      "Epoch 21/30\n",
      "\u001b[1m42/42\u001b[0m \u001b[32m━━━━━━━━━━━━━━━━━━━━\u001b[0m\u001b[37m\u001b[0m \u001b[1m0s\u001b[0m 2ms/step - accuracy: 0.8603 - loss: 0.3405 - val_accuracy: 0.8121 - val_loss: 0.3950 - learning_rate: 0.0010\n",
      "Epoch 22/30\n",
      "\u001b[1m42/42\u001b[0m \u001b[32m━━━━━━━━━━━━━━━━━━━━\u001b[0m\u001b[37m\u001b[0m \u001b[1m0s\u001b[0m 2ms/step - accuracy: 0.8428 - loss: 0.3587 - val_accuracy: 0.8227 - val_loss: 0.3932 - learning_rate: 0.0010\n",
      "Epoch 23/30\n",
      "\u001b[1m42/42\u001b[0m \u001b[32m━━━━━━━━━━━━━━━━━━━━\u001b[0m\u001b[37m\u001b[0m \u001b[1m0s\u001b[0m 2ms/step - accuracy: 0.8612 - loss: 0.3490 - val_accuracy: 0.8298 - val_loss: 0.3908 - learning_rate: 0.0010\n",
      "Epoch 24/30\n",
      "\u001b[1m42/42\u001b[0m \u001b[32m━━━━━━━━━━━━━━━━━━━━\u001b[0m\u001b[37m\u001b[0m \u001b[1m0s\u001b[0m 3ms/step - accuracy: 0.8443 - loss: 0.3573 - val_accuracy: 0.8262 - val_loss: 0.3897 - learning_rate: 0.0010\n",
      "Epoch 25/30\n",
      "\u001b[1m42/42\u001b[0m \u001b[32m━━━━━━━━━━━━━━━━━━━━\u001b[0m\u001b[37m\u001b[0m \u001b[1m0s\u001b[0m 3ms/step - accuracy: 0.8661 - loss: 0.3342 - val_accuracy: 0.8191 - val_loss: 0.3915 - learning_rate: 0.0010\n",
      "Epoch 26/30\n",
      "\u001b[1m42/42\u001b[0m \u001b[32m━━━━━━━━━━━━━━━━━━━━\u001b[0m\u001b[37m\u001b[0m \u001b[1m0s\u001b[0m 3ms/step - accuracy: 0.8520 - loss: 0.3508 - val_accuracy: 0.8227 - val_loss: 0.3911 - learning_rate: 0.0010\n",
      "Epoch 27/30\n",
      "\u001b[1m42/42\u001b[0m \u001b[32m━━━━━━━━━━━━━━━━━━━━\u001b[0m\u001b[37m\u001b[0m \u001b[1m0s\u001b[0m 3ms/step - accuracy: 0.8493 - loss: 0.3471 - val_accuracy: 0.8191 - val_loss: 0.3893 - learning_rate: 0.0010\n",
      "Epoch 28/30\n",
      "\u001b[1m42/42\u001b[0m \u001b[32m━━━━━━━━━━━━━━━━━━━━\u001b[0m\u001b[37m\u001b[0m \u001b[1m0s\u001b[0m 3ms/step - accuracy: 0.8483 - loss: 0.3618 - val_accuracy: 0.8227 - val_loss: 0.3886 - learning_rate: 0.0010\n",
      "Epoch 29/30\n",
      "\u001b[1m42/42\u001b[0m \u001b[32m━━━━━━━━━━━━━━━━━━━━\u001b[0m\u001b[37m\u001b[0m \u001b[1m0s\u001b[0m 3ms/step - accuracy: 0.8569 - loss: 0.3330 - val_accuracy: 0.8227 - val_loss: 0.3871 - learning_rate: 0.0010\n",
      "Epoch 30/30\n",
      "\u001b[1m42/42\u001b[0m \u001b[32m━━━━━━━━━━━━━━━━━━━━\u001b[0m\u001b[37m\u001b[0m \u001b[1m0s\u001b[0m 2ms/step - accuracy: 0.8696 - loss: 0.3226 - val_accuracy: 0.8262 - val_loss: 0.3886 - learning_rate: 0.0010\n"
     ]
    },
    {
     "data": {
      "text/plain": [
       "<keras.src.callbacks.history.History at 0x7c1213d02020>"
      ]
     },
     "execution_count": 17,
     "metadata": {},
     "output_type": "execute_result"
    }
   ],
   "source": [
    "basic_model.fit(\n",
    "    x_train_scaled, y_train,\n",
    "    epochs=30,\n",
    "    validation_data=(x_val_scaled, y_val),\n",
    "    callbacks=callbacks\n",
    ")"
   ]
  },
  {
   "cell_type": "markdown",
   "id": "01c9ae73",
   "metadata": {
    "papermill": {
     "duration": 0.016602,
     "end_time": "2025-03-04T07:18:08.181898",
     "exception": false,
     "start_time": "2025-03-04T07:18:08.165296",
     "status": "completed"
    },
    "tags": []
   },
   "source": [
    "# Evaluation"
   ]
  },
  {
   "cell_type": "code",
   "execution_count": 18,
   "id": "d412e1c0",
   "metadata": {
    "execution": {
     "iopub.execute_input": "2025-03-04T07:18:08.216244Z",
     "iopub.status.busy": "2025-03-04T07:18:08.215718Z",
     "iopub.status.idle": "2025-03-04T07:18:08.318672Z",
     "shell.execute_reply": "2025-03-04T07:18:08.317331Z"
    },
    "papermill": {
     "duration": 0.12259,
     "end_time": "2025-03-04T07:18:08.320884",
     "exception": false,
     "start_time": "2025-03-04T07:18:08.198294",
     "status": "completed"
    },
    "tags": []
   },
   "outputs": [
    {
     "name": "stdout",
     "output_type": "stream",
     "text": [
      "\u001b[1m9/9\u001b[0m \u001b[32m━━━━━━━━━━━━━━━━━━━━\u001b[0m\u001b[37m\u001b[0m \u001b[1m0s\u001b[0m 2ms/step - accuracy: 0.8540 - loss: 0.3904 \n",
      "Loss: 0.3703\n",
      "Accuracy: 86.17%\n"
     ]
    }
   ],
   "source": [
    "loss, accuracy = basic_model.evaluate(x_test_scaled, y_test)\n",
    "print('Loss: {:.4f}'.format(loss))\n",
    "print('Accuracy: {:.2%}'.format(accuracy))\n"
   ]
  },
  {
   "cell_type": "code",
   "execution_count": 19,
   "id": "d38c8273",
   "metadata": {
    "execution": {
     "iopub.execute_input": "2025-03-04T07:18:08.366557Z",
     "iopub.status.busy": "2025-03-04T07:18:08.366073Z",
     "iopub.status.idle": "2025-03-04T07:18:08.548864Z",
     "shell.execute_reply": "2025-03-04T07:18:08.547686Z"
    },
    "papermill": {
     "duration": 0.20426,
     "end_time": "2025-03-04T07:18:08.551128",
     "exception": false,
     "start_time": "2025-03-04T07:18:08.346868",
     "status": "completed"
    },
    "tags": []
   },
   "outputs": [
    {
     "name": "stdout",
     "output_type": "stream",
     "text": [
      "\u001b[1m9/9\u001b[0m \u001b[32m━━━━━━━━━━━━━━━━━━━━\u001b[0m\u001b[37m\u001b[0m \u001b[1m0s\u001b[0m 5ms/step \n",
      "              precision    recall  f1-score   support\n",
      "\n",
      "           0       0.86      0.87      0.86       180\n",
      "           1       0.76      0.75      0.75       102\n",
      "\n",
      "    accuracy                           0.82       282\n",
      "   macro avg       0.81      0.81      0.81       282\n",
      "weighted avg       0.82      0.82      0.82       282\n",
      "\n"
     ]
    }
   ],
   "source": [
    "from sklearn.metrics import classification_report\n",
    "\n",
    "# Contoh membuat prediksi probabilitas\n",
    "y_probs = basic_model.predict(x_val_scaled)\n",
    "y_preds = (y_probs > 0.5).astype(int)\n",
    "\n",
    "# Evaluasi model\n",
    "print(classification_report(y_val, y_preds))\n"
   ]
  },
  {
   "cell_type": "markdown",
   "id": "a099a395",
   "metadata": {
    "papermill": {
     "duration": 0.015862,
     "end_time": "2025-03-04T07:18:08.589276",
     "exception": false,
     "start_time": "2025-03-04T07:18:08.573414",
     "status": "completed"
    },
    "tags": []
   },
   "source": [
    "pretty solid results! accuracy yang pas nggak overfitting alias kebanyakan belajar, dan loss yang rendah."
   ]
  },
  {
   "cell_type": "markdown",
   "id": "020449be",
   "metadata": {
    "papermill": {
     "duration": 0.015397,
     "end_time": "2025-03-04T07:18:08.620397",
     "exception": false,
     "start_time": "2025-03-04T07:18:08.605000",
     "status": "completed"
    },
    "tags": []
   },
   "source": [
    "# Model Testing"
   ]
  },
  {
   "cell_type": "markdown",
   "id": "0fb1ed43",
   "metadata": {
    "papermill": {
     "duration": 0.028842,
     "end_time": "2025-03-04T07:18:08.673180",
     "exception": false,
     "start_time": "2025-03-04T07:18:08.644338",
     "status": "completed"
    },
    "tags": []
   },
   "source": [
    "Misal ada pasien test dengan klasifikasi berikut, apakah dia diabetes atau tidak berdasarkan metrics yang digunakan, ada 39 fitur"
   ]
  },
  {
   "cell_type": "code",
   "execution_count": 20,
   "id": "492195fe",
   "metadata": {
    "execution": {
     "iopub.execute_input": "2025-03-04T07:18:08.735619Z",
     "iopub.status.busy": "2025-03-04T07:18:08.735057Z",
     "iopub.status.idle": "2025-03-04T07:18:08.745479Z",
     "shell.execute_reply": "2025-03-04T07:18:08.743887Z"
    },
    "papermill": {
     "duration": 0.044907,
     "end_time": "2025-03-04T07:18:08.748902",
     "exception": false,
     "start_time": "2025-03-04T07:18:08.703995",
     "status": "completed"
    },
    "tags": []
   },
   "outputs": [],
   "source": [
    "feature_columns = ['Age', 'BMI', 'Smoking', 'AlcoholConsumption', 'PhysicalActivity',\n",
    "                   'DietQuality', 'SleepQuality', 'FamilyHistoryDiabetes', 'GestationalDiabetes',\n",
    "                   'PolycysticOvarySyndrome', 'PreviousPreDiabetes', 'Hypertension', 'SystolicBP',\n",
    "                   'DiastolicBP', 'FastingBloodSugar', 'HbA1c', 'SerumCreatinine', 'BUNLevels',\n",
    "                   'CholesterolTotal', 'CholesterolLDL', 'CholesterolHDL', 'CholesterolTriglycerides',\n",
    "                   'AntihypertensiveMedications', 'Statins', 'AntidiabeticMedications', 'FrequentUrination',\n",
    "                   'ExcessiveThirst', 'UnexplainedWeightLoss', 'FatigueLevels', 'BlurredVision',\n",
    "                   'SlowHealingSores', 'TinglingHandsFeet', 'QualityOfLifeScore', 'HeavyMetalsExposure',\n",
    "                   'OccupationalExposureChemicals', 'WaterQuality', 'MedicalCheckupsFrequency',\n",
    "                   'MedicationAdherence', 'HealthLiteracy']"
   ]
  },
  {
   "cell_type": "code",
   "execution_count": 21,
   "id": "bde6dc20",
   "metadata": {
    "execution": {
     "iopub.execute_input": "2025-03-04T07:18:08.811522Z",
     "iopub.status.busy": "2025-03-04T07:18:08.810750Z",
     "iopub.status.idle": "2025-03-04T07:18:08.912621Z",
     "shell.execute_reply": "2025-03-04T07:18:08.911260Z"
    },
    "papermill": {
     "duration": 0.133578,
     "end_time": "2025-03-04T07:18:08.914741",
     "exception": false,
     "start_time": "2025-03-04T07:18:08.781163",
     "status": "completed"
    },
    "tags": []
   },
   "outputs": [
    {
     "name": "stdout",
     "output_type": "stream",
     "text": [
      "[[-0.85714286 -0.62350146  0.         -0.87406484  0.76233907  0.63768615\n",
      "   0.29760042  0.          0.          0.          0.          0.\n",
      "  -0.54545455 -0.66666667 -0.80586776 -0.73698218 -0.91596095 -0.61826043\n",
      "  -0.71961778 -0.47305742 -0.01141124 -0.74429779  0.          0.\n",
      "   0.          0.          0.          0.         -0.5535522   0.\n",
      "   0.          0.          0.76632613  0.          0.          1.\n",
      "   3.18439563  0.8158987   0.76588408]]\n",
      "\u001b[1m1/1\u001b[0m \u001b[32m━━━━━━━━━━━━━━━━━━━━\u001b[0m\u001b[37m\u001b[0m \u001b[1m0s\u001b[0m 21ms/step\n",
      "Probabilitas Diabetes: 0.011021909303963184\n",
      "Hasil Diagnosa: Tidak Diabetes, Selamat!\n"
     ]
    }
   ],
   "source": [
    "import numpy as np\n",
    "patient_data =  np.array([\n",
    "    25,  # Age\n",
    "    20,  # BMI (Normal)\n",
    "    0,   # Smoking (Tidak merokok)\n",
    "    1,   # AlcoholConsumption (Jarang minum alkohol)\n",
    "    9,   # PhysicalActivity (Sangat aktif)\n",
    "    8,   # DietQuality (Sehat)\n",
    "    8,   # SleepQuality (Tidur cukup)\n",
    "    0,   # FamilyHistoryDiabetes (Tidak ada riwayat keluarga)\n",
    "    0,   # GestationalDiabetes\n",
    "    0,   # PolycysticOvarySyndrome\n",
    "    0,   # PreviousPreDiabetes\n",
    "    0,   # Hypertension\n",
    "    110, # SystolicBP (Normal)\n",
    "    70,  # DiastolicBP (Normal)\n",
    "    85,  # FastingBloodSugar (Normal)\n",
    "    4.9, # HbA1c (Normal)\n",
    "    0.8, # SerumCreatinine (Normal)\n",
    "    15,  # BUNLevels (Normal)\n",
    "    170, # CholesterolTotal (Normal)\n",
    "    90,  # CholesterolLDL (Normal)\n",
    "    60,  # CholesterolHDL (Baik)\n",
    "    100, # CholesterolTriglycerides (Normal)\n",
    "    0,   # AntihypertensiveMedications\n",
    "    0,   # Statins\n",
    "    0,   # AntidiabeticMedications\n",
    "    0,   # FrequentUrination\n",
    "    0,   # ExcessiveThirst\n",
    "    0,   # UnexplainedWeightLoss\n",
    "    2,   # FatigueLevels (Energi bagus)\n",
    "    0,   # BlurredVision\n",
    "    0,   # SlowHealingSores\n",
    "    0,   # TinglingHandsFeet\n",
    "    85,  # QualityOfLifeScore (Bagus)\n",
    "    0,   # HeavyMetalsExposure\n",
    "    0,   # OccupationalExposureChemicals\n",
    "    1,   # WaterQuality\n",
    "    8,   # MedicalCheckupsFrequency (Rajin cek kesehatan)\n",
    "    9,   # MedicationAdherence\n",
    "    9    # HealthLiteracy\n",
    "])\n",
    "\n",
    "#Ubah data patient ke dataframe\n",
    "patient_data = patient_data.reshape(1, -1)\n",
    "patient_df = pd.DataFrame(patient_data, columns=feature_columns)\n",
    "\n",
    "#Scaling sesuai saat training\n",
    "patient_df_scaled = scaler.transform(patient_df)\n",
    "print(patient_df_scaled)\n",
    "\n",
    "#Prediksi\n",
    "prediction = basic_model.predict(patient_df_scaled)[0][0]\n",
    "\n",
    "#Threshold\n",
    "threshold = 0.5\n",
    "result = \"Diabetes\" if prediction > threshold else \"Tidak Diabetes, Selamat!\"\n",
    "\n",
    "print(f\"Probabilitas Diabetes: {prediction}\")\n",
    "print(f\"Hasil Diagnosa: {result}\")\n"
   ]
  },
  {
   "cell_type": "markdown",
   "id": "80a1108b",
   "metadata": {
    "papermill": {
     "duration": 0.016841,
     "end_time": "2025-03-04T07:18:08.955499",
     "exception": false,
     "start_time": "2025-03-04T07:18:08.938658",
     "status": "completed"
    },
    "tags": []
   },
   "source": [
    "# Export Model to Deploy"
   ]
  },
  {
   "cell_type": "code",
   "execution_count": 22,
   "id": "912f1af0",
   "metadata": {
    "execution": {
     "iopub.execute_input": "2025-03-04T07:18:08.990900Z",
     "iopub.status.busy": "2025-03-04T07:18:08.990410Z",
     "iopub.status.idle": "2025-03-04T07:18:09.024699Z",
     "shell.execute_reply": "2025-03-04T07:18:09.023636Z"
    },
    "papermill": {
     "duration": 0.054799,
     "end_time": "2025-03-04T07:18:09.026648",
     "exception": false,
     "start_time": "2025-03-04T07:18:08.971849",
     "status": "completed"
    },
    "tags": []
   },
   "outputs": [],
   "source": [
    "from tensorflow import keras\n",
    "# Simpan model dalam format HDF5 (.h5)\n",
    "keras_file = \"modeld.h5\"\n",
    "basic_model.save(keras_file)"
   ]
  },
  {
   "cell_type": "code",
   "execution_count": null,
   "id": "b20af581",
   "metadata": {
    "papermill": {
     "duration": 0.015847,
     "end_time": "2025-03-04T07:18:09.061567",
     "exception": false,
     "start_time": "2025-03-04T07:18:09.045720",
     "status": "completed"
    },
    "tags": []
   },
   "outputs": [],
   "source": []
  },
  {
   "cell_type": "markdown",
   "id": "523634e1",
   "metadata": {
    "papermill": {
     "duration": 0.01545,
     "end_time": "2025-03-04T07:18:09.093648",
     "exception": false,
     "start_time": "2025-03-04T07:18:09.078198",
     "status": "completed"
    },
    "tags": []
   },
   "source": [
    "# Covert h5 to Tensorflow Lite"
   ]
  },
  {
   "cell_type": "code",
   "execution_count": 23,
   "id": "43ba8178",
   "metadata": {
    "execution": {
     "iopub.execute_input": "2025-03-04T07:18:09.127721Z",
     "iopub.status.busy": "2025-03-04T07:18:09.127355Z",
     "iopub.status.idle": "2025-03-04T07:18:09.788391Z",
     "shell.execute_reply": "2025-03-04T07:18:09.787314Z"
    },
    "papermill": {
     "duration": 0.680195,
     "end_time": "2025-03-04T07:18:09.790481",
     "exception": false,
     "start_time": "2025-03-04T07:18:09.110286",
     "status": "completed"
    },
    "tags": []
   },
   "outputs": [
    {
     "name": "stdout",
     "output_type": "stream",
     "text": [
      "Saved artifact at '/tmp/tmp6r8795wo'. The following endpoints are available:\n",
      "\n",
      "* Endpoint 'serve'\n",
      "  args_0 (POSITIONAL_ONLY): TensorSpec(shape=(None, 39), dtype=tf.float32, name='input_layer')\n",
      "Output Type:\n",
      "  TensorSpec(shape=(None, 1), dtype=tf.float32, name=None)\n",
      "Captures:\n",
      "  136416618398288: TensorSpec(shape=(), dtype=tf.resource, name=None)\n",
      "  136416618409024: TensorSpec(shape=(), dtype=tf.resource, name=None)\n",
      "  136417082237248: TensorSpec(shape=(), dtype=tf.resource, name=None)\n",
      "  136416618930672: TensorSpec(shape=(), dtype=tf.resource, name=None)\n"
     ]
    }
   ],
   "source": [
    "# Pastikan model sudah dimuat jika kamu ingin mengonversi dari file\n",
    "basic_model = tf.keras.models.load_model(\"modeld.h5\")\n",
    "\n",
    "# Konversi model ke TFLite\n",
    "converter = tf.lite.TFLiteConverter.from_keras_model(basic_model)\n",
    "converter.optimizations = [tf.lite.Optimize.DEFAULT]\n",
    "tflite_model = converter.convert()\n",
    "\n",
    "# Simpan model TFLite\n",
    "with open('modeld.tflite', 'wb') as f:\n",
    "    f.write(tflite_model)"
   ]
  },
  {
   "cell_type": "code",
   "execution_count": 24,
   "id": "e4ee3672",
   "metadata": {
    "execution": {
     "iopub.execute_input": "2025-03-04T07:18:09.827098Z",
     "iopub.status.busy": "2025-03-04T07:18:09.826667Z",
     "iopub.status.idle": "2025-03-04T07:18:09.833569Z",
     "shell.execute_reply": "2025-03-04T07:18:09.832362Z"
    },
    "papermill": {
     "duration": 0.026979,
     "end_time": "2025-03-04T07:18:09.835541",
     "exception": false,
     "start_time": "2025-03-04T07:18:09.808562",
     "status": "completed"
    },
    "tags": []
   },
   "outputs": [
    {
     "data": {
      "text/html": [
       "<a href='modeld.tflite' target='_blank'>modeld.tflite</a><br>"
      ],
      "text/plain": [
       "/kaggle/working/modeld.tflite"
      ]
     },
     "execution_count": 24,
     "metadata": {},
     "output_type": "execute_result"
    }
   ],
   "source": [
    "from IPython.display import FileLink\n",
    "\n",
    "# Tampilkan link untuk mendownload\n",
    "FileLink('modeld.tflite')"
   ]
  }
 ],
 "metadata": {
  "kaggle": {
   "accelerator": "none",
   "dataSources": [
    {
     "datasetId": 5192952,
     "sourceId": 8665939,
     "sourceType": "datasetVersion"
    }
   ],
   "dockerImageVersionId": 30918,
   "isGpuEnabled": false,
   "isInternetEnabled": true,
   "language": "python",
   "sourceType": "notebook"
  },
  "kernelspec": {
   "display_name": "Python 3",
   "language": "python",
   "name": "python3"
  },
  "language_info": {
   "codemirror_mode": {
    "name": "ipython",
    "version": 3
   },
   "file_extension": ".py",
   "mimetype": "text/x-python",
   "name": "python",
   "nbconvert_exporter": "python",
   "pygments_lexer": "ipython3",
   "version": "3.10.12"
  },
  "papermill": {
   "default_parameters": {},
   "duration": 30.346927,
   "end_time": "2025-03-04T07:18:11.577822",
   "environment_variables": {},
   "exception": null,
   "input_path": "__notebook__.ipynb",
   "output_path": "__notebook__.ipynb",
   "parameters": {},
   "start_time": "2025-03-04T07:17:41.230895",
   "version": "2.6.0"
  }
 },
 "nbformat": 4,
 "nbformat_minor": 5
}
