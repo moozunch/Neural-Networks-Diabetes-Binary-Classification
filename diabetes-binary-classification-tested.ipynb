{
 "cells": [
  {
   "cell_type": "code",
   "execution_count": 1,
   "id": "9baf9c63",
   "metadata": {
    "execution": {
     "iopub.execute_input": "2025-03-04T05:38:18.592835Z",
     "iopub.status.busy": "2025-03-04T05:38:18.592343Z",
     "iopub.status.idle": "2025-03-04T05:38:19.658177Z",
     "shell.execute_reply": "2025-03-04T05:38:19.656967Z"
    },
    "papermill": {
     "duration": 1.076733,
     "end_time": "2025-03-04T05:38:19.660895",
     "exception": false,
     "start_time": "2025-03-04T05:38:18.584162",
     "status": "completed"
    },
    "tags": []
   },
   "outputs": [],
   "source": [
    "import pandas as pd"
   ]
  },
  {
   "cell_type": "code",
   "execution_count": 2,
   "id": "e5dff2c6",
   "metadata": {
    "_cell_guid": "b1076dfc-b9ad-4769-8c92-a6c4dae69d19",
    "_uuid": "8f2839f25d086af736a60e9eeb907d3b93b6e0e5",
    "execution": {
     "iopub.execute_input": "2025-03-04T05:38:19.681166Z",
     "iopub.status.busy": "2025-03-04T05:38:19.680636Z",
     "iopub.status.idle": "2025-03-04T05:38:19.764979Z",
     "shell.execute_reply": "2025-03-04T05:38:19.763631Z"
    },
    "papermill": {
     "duration": 0.094265,
     "end_time": "2025-03-04T05:38:19.767134",
     "exception": false,
     "start_time": "2025-03-04T05:38:19.672869",
     "status": "completed"
    },
    "tags": []
   },
   "outputs": [
    {
     "data": {
      "text/html": [
       "<div>\n",
       "<style scoped>\n",
       "    .dataframe tbody tr th:only-of-type {\n",
       "        vertical-align: middle;\n",
       "    }\n",
       "\n",
       "    .dataframe tbody tr th {\n",
       "        vertical-align: top;\n",
       "    }\n",
       "\n",
       "    .dataframe thead th {\n",
       "        text-align: right;\n",
       "    }\n",
       "</style>\n",
       "<table border=\"1\" class=\"dataframe\">\n",
       "  <thead>\n",
       "    <tr style=\"text-align: right;\">\n",
       "      <th></th>\n",
       "      <th>PatientID</th>\n",
       "      <th>Age</th>\n",
       "      <th>Gender</th>\n",
       "      <th>Ethnicity</th>\n",
       "      <th>SocioeconomicStatus</th>\n",
       "      <th>EducationLevel</th>\n",
       "      <th>BMI</th>\n",
       "      <th>Smoking</th>\n",
       "      <th>AlcoholConsumption</th>\n",
       "      <th>PhysicalActivity</th>\n",
       "      <th>...</th>\n",
       "      <th>TinglingHandsFeet</th>\n",
       "      <th>QualityOfLifeScore</th>\n",
       "      <th>HeavyMetalsExposure</th>\n",
       "      <th>OccupationalExposureChemicals</th>\n",
       "      <th>WaterQuality</th>\n",
       "      <th>MedicalCheckupsFrequency</th>\n",
       "      <th>MedicationAdherence</th>\n",
       "      <th>HealthLiteracy</th>\n",
       "      <th>Diagnosis</th>\n",
       "      <th>DoctorInCharge</th>\n",
       "    </tr>\n",
       "  </thead>\n",
       "  <tbody>\n",
       "    <tr>\n",
       "      <th>0</th>\n",
       "      <td>6000</td>\n",
       "      <td>44</td>\n",
       "      <td>0</td>\n",
       "      <td>1</td>\n",
       "      <td>2</td>\n",
       "      <td>1</td>\n",
       "      <td>32.985284</td>\n",
       "      <td>1</td>\n",
       "      <td>4.499365</td>\n",
       "      <td>2.443385</td>\n",
       "      <td>...</td>\n",
       "      <td>1</td>\n",
       "      <td>73.765109</td>\n",
       "      <td>0</td>\n",
       "      <td>0</td>\n",
       "      <td>0</td>\n",
       "      <td>1.782724</td>\n",
       "      <td>4.486980</td>\n",
       "      <td>7.211349</td>\n",
       "      <td>1</td>\n",
       "      <td>Confidential</td>\n",
       "    </tr>\n",
       "    <tr>\n",
       "      <th>1</th>\n",
       "      <td>6001</td>\n",
       "      <td>51</td>\n",
       "      <td>1</td>\n",
       "      <td>0</td>\n",
       "      <td>1</td>\n",
       "      <td>2</td>\n",
       "      <td>39.916764</td>\n",
       "      <td>0</td>\n",
       "      <td>1.578919</td>\n",
       "      <td>8.301264</td>\n",
       "      <td>...</td>\n",
       "      <td>0</td>\n",
       "      <td>91.445753</td>\n",
       "      <td>0</td>\n",
       "      <td>0</td>\n",
       "      <td>1</td>\n",
       "      <td>3.381070</td>\n",
       "      <td>5.961705</td>\n",
       "      <td>5.024612</td>\n",
       "      <td>1</td>\n",
       "      <td>Confidential</td>\n",
       "    </tr>\n",
       "    <tr>\n",
       "      <th>2</th>\n",
       "      <td>6002</td>\n",
       "      <td>89</td>\n",
       "      <td>1</td>\n",
       "      <td>0</td>\n",
       "      <td>1</td>\n",
       "      <td>3</td>\n",
       "      <td>19.782251</td>\n",
       "      <td>0</td>\n",
       "      <td>1.177301</td>\n",
       "      <td>6.103395</td>\n",
       "      <td>...</td>\n",
       "      <td>0</td>\n",
       "      <td>54.485744</td>\n",
       "      <td>0</td>\n",
       "      <td>0</td>\n",
       "      <td>0</td>\n",
       "      <td>2.701019</td>\n",
       "      <td>8.950821</td>\n",
       "      <td>7.034944</td>\n",
       "      <td>0</td>\n",
       "      <td>Confidential</td>\n",
       "    </tr>\n",
       "    <tr>\n",
       "      <th>3</th>\n",
       "      <td>6003</td>\n",
       "      <td>21</td>\n",
       "      <td>1</td>\n",
       "      <td>1</td>\n",
       "      <td>1</td>\n",
       "      <td>2</td>\n",
       "      <td>32.376881</td>\n",
       "      <td>1</td>\n",
       "      <td>1.714621</td>\n",
       "      <td>8.645465</td>\n",
       "      <td>...</td>\n",
       "      <td>0</td>\n",
       "      <td>77.866758</td>\n",
       "      <td>0</td>\n",
       "      <td>0</td>\n",
       "      <td>1</td>\n",
       "      <td>1.409056</td>\n",
       "      <td>3.124769</td>\n",
       "      <td>4.717774</td>\n",
       "      <td>0</td>\n",
       "      <td>Confidential</td>\n",
       "    </tr>\n",
       "    <tr>\n",
       "      <th>4</th>\n",
       "      <td>6004</td>\n",
       "      <td>27</td>\n",
       "      <td>1</td>\n",
       "      <td>0</td>\n",
       "      <td>1</td>\n",
       "      <td>3</td>\n",
       "      <td>16.808600</td>\n",
       "      <td>0</td>\n",
       "      <td>15.462549</td>\n",
       "      <td>4.629383</td>\n",
       "      <td>...</td>\n",
       "      <td>0</td>\n",
       "      <td>37.731808</td>\n",
       "      <td>0</td>\n",
       "      <td>0</td>\n",
       "      <td>0</td>\n",
       "      <td>1.218452</td>\n",
       "      <td>6.977741</td>\n",
       "      <td>7.887940</td>\n",
       "      <td>0</td>\n",
       "      <td>Confidential</td>\n",
       "    </tr>\n",
       "  </tbody>\n",
       "</table>\n",
       "<p>5 rows × 46 columns</p>\n",
       "</div>"
      ],
      "text/plain": [
       "   PatientID  Age  Gender  Ethnicity  SocioeconomicStatus  EducationLevel  \\\n",
       "0       6000   44       0          1                    2               1   \n",
       "1       6001   51       1          0                    1               2   \n",
       "2       6002   89       1          0                    1               3   \n",
       "3       6003   21       1          1                    1               2   \n",
       "4       6004   27       1          0                    1               3   \n",
       "\n",
       "         BMI  Smoking  AlcoholConsumption  PhysicalActivity  ...  \\\n",
       "0  32.985284        1            4.499365          2.443385  ...   \n",
       "1  39.916764        0            1.578919          8.301264  ...   \n",
       "2  19.782251        0            1.177301          6.103395  ...   \n",
       "3  32.376881        1            1.714621          8.645465  ...   \n",
       "4  16.808600        0           15.462549          4.629383  ...   \n",
       "\n",
       "   TinglingHandsFeet  QualityOfLifeScore  HeavyMetalsExposure  \\\n",
       "0                  1           73.765109                    0   \n",
       "1                  0           91.445753                    0   \n",
       "2                  0           54.485744                    0   \n",
       "3                  0           77.866758                    0   \n",
       "4                  0           37.731808                    0   \n",
       "\n",
       "   OccupationalExposureChemicals  WaterQuality  MedicalCheckupsFrequency  \\\n",
       "0                              0             0                  1.782724   \n",
       "1                              0             1                  3.381070   \n",
       "2                              0             0                  2.701019   \n",
       "3                              0             1                  1.409056   \n",
       "4                              0             0                  1.218452   \n",
       "\n",
       "   MedicationAdherence  HealthLiteracy  Diagnosis  DoctorInCharge  \n",
       "0             4.486980        7.211349          1    Confidential  \n",
       "1             5.961705        5.024612          1    Confidential  \n",
       "2             8.950821        7.034944          0    Confidential  \n",
       "3             3.124769        4.717774          0    Confidential  \n",
       "4             6.977741        7.887940          0    Confidential  \n",
       "\n",
       "[5 rows x 46 columns]"
      ]
     },
     "execution_count": 2,
     "metadata": {},
     "output_type": "execute_result"
    }
   ],
   "source": [
    "# Load data\n",
    "df = pd.read_csv(\"/kaggle/input/diabetes-health-dataset-analysis/diabetes_data.csv\")\n",
    "df.head()"
   ]
  },
  {
   "cell_type": "code",
   "execution_count": 3,
   "id": "4668fbff",
   "metadata": {
    "execution": {
     "iopub.execute_input": "2025-03-04T05:38:19.781668Z",
     "iopub.status.busy": "2025-03-04T05:38:19.781278Z",
     "iopub.status.idle": "2025-03-04T05:38:19.807328Z",
     "shell.execute_reply": "2025-03-04T05:38:19.805941Z"
    },
    "papermill": {
     "duration": 0.035659,
     "end_time": "2025-03-04T05:38:19.809318",
     "exception": false,
     "start_time": "2025-03-04T05:38:19.773659",
     "status": "completed"
    },
    "tags": []
   },
   "outputs": [
    {
     "name": "stdout",
     "output_type": "stream",
     "text": [
      "<class 'pandas.core.frame.DataFrame'>\n",
      "RangeIndex: 1879 entries, 0 to 1878\n",
      "Data columns (total 46 columns):\n",
      " #   Column                         Non-Null Count  Dtype  \n",
      "---  ------                         --------------  -----  \n",
      " 0   PatientID                      1879 non-null   int64  \n",
      " 1   Age                            1879 non-null   int64  \n",
      " 2   Gender                         1879 non-null   int64  \n",
      " 3   Ethnicity                      1879 non-null   int64  \n",
      " 4   SocioeconomicStatus            1879 non-null   int64  \n",
      " 5   EducationLevel                 1879 non-null   int64  \n",
      " 6   BMI                            1879 non-null   float64\n",
      " 7   Smoking                        1879 non-null   int64  \n",
      " 8   AlcoholConsumption             1879 non-null   float64\n",
      " 9   PhysicalActivity               1879 non-null   float64\n",
      " 10  DietQuality                    1879 non-null   float64\n",
      " 11  SleepQuality                   1879 non-null   float64\n",
      " 12  FamilyHistoryDiabetes          1879 non-null   int64  \n",
      " 13  GestationalDiabetes            1879 non-null   int64  \n",
      " 14  PolycysticOvarySyndrome        1879 non-null   int64  \n",
      " 15  PreviousPreDiabetes            1879 non-null   int64  \n",
      " 16  Hypertension                   1879 non-null   int64  \n",
      " 17  SystolicBP                     1879 non-null   int64  \n",
      " 18  DiastolicBP                    1879 non-null   int64  \n",
      " 19  FastingBloodSugar              1879 non-null   float64\n",
      " 20  HbA1c                          1879 non-null   float64\n",
      " 21  SerumCreatinine                1879 non-null   float64\n",
      " 22  BUNLevels                      1879 non-null   float64\n",
      " 23  CholesterolTotal               1879 non-null   float64\n",
      " 24  CholesterolLDL                 1879 non-null   float64\n",
      " 25  CholesterolHDL                 1879 non-null   float64\n",
      " 26  CholesterolTriglycerides       1879 non-null   float64\n",
      " 27  AntihypertensiveMedications    1879 non-null   int64  \n",
      " 28  Statins                        1879 non-null   int64  \n",
      " 29  AntidiabeticMedications        1879 non-null   int64  \n",
      " 30  FrequentUrination              1879 non-null   int64  \n",
      " 31  ExcessiveThirst                1879 non-null   int64  \n",
      " 32  UnexplainedWeightLoss          1879 non-null   int64  \n",
      " 33  FatigueLevels                  1879 non-null   float64\n",
      " 34  BlurredVision                  1879 non-null   int64  \n",
      " 35  SlowHealingSores               1879 non-null   int64  \n",
      " 36  TinglingHandsFeet              1879 non-null   int64  \n",
      " 37  QualityOfLifeScore             1879 non-null   float64\n",
      " 38  HeavyMetalsExposure            1879 non-null   int64  \n",
      " 39  OccupationalExposureChemicals  1879 non-null   int64  \n",
      " 40  WaterQuality                   1879 non-null   int64  \n",
      " 41  MedicalCheckupsFrequency       1879 non-null   float64\n",
      " 42  MedicationAdherence            1879 non-null   float64\n",
      " 43  HealthLiteracy                 1879 non-null   float64\n",
      " 44  Diagnosis                      1879 non-null   int64  \n",
      " 45  DoctorInCharge                 1879 non-null   object \n",
      "dtypes: float64(18), int64(27), object(1)\n",
      "memory usage: 675.4+ KB\n"
     ]
    }
   ],
   "source": [
    "df.info()"
   ]
  },
  {
   "cell_type": "code",
   "execution_count": 4,
   "id": "f1cf9a66",
   "metadata": {
    "execution": {
     "iopub.execute_input": "2025-03-04T05:38:19.830061Z",
     "iopub.status.busy": "2025-03-04T05:38:19.829586Z",
     "iopub.status.idle": "2025-03-04T05:38:19.845106Z",
     "shell.execute_reply": "2025-03-04T05:38:19.843410Z"
    },
    "papermill": {
     "duration": 0.029052,
     "end_time": "2025-03-04T05:38:19.847462",
     "exception": false,
     "start_time": "2025-03-04T05:38:19.818410",
     "status": "completed"
    },
    "tags": []
   },
   "outputs": [
    {
     "name": "stdout",
     "output_type": "stream",
     "text": [
      "<class 'pandas.core.frame.DataFrame'>\n",
      "RangeIndex: 1879 entries, 0 to 1878\n",
      "Data columns (total 40 columns):\n",
      " #   Column                         Non-Null Count  Dtype  \n",
      "---  ------                         --------------  -----  \n",
      " 0   Age                            1879 non-null   int64  \n",
      " 1   BMI                            1879 non-null   float64\n",
      " 2   Smoking                        1879 non-null   int64  \n",
      " 3   AlcoholConsumption             1879 non-null   float64\n",
      " 4   PhysicalActivity               1879 non-null   float64\n",
      " 5   DietQuality                    1879 non-null   float64\n",
      " 6   SleepQuality                   1879 non-null   float64\n",
      " 7   FamilyHistoryDiabetes          1879 non-null   int64  \n",
      " 8   GestationalDiabetes            1879 non-null   int64  \n",
      " 9   PolycysticOvarySyndrome        1879 non-null   int64  \n",
      " 10  PreviousPreDiabetes            1879 non-null   int64  \n",
      " 11  Hypertension                   1879 non-null   int64  \n",
      " 12  SystolicBP                     1879 non-null   int64  \n",
      " 13  DiastolicBP                    1879 non-null   int64  \n",
      " 14  FastingBloodSugar              1879 non-null   float64\n",
      " 15  HbA1c                          1879 non-null   float64\n",
      " 16  SerumCreatinine                1879 non-null   float64\n",
      " 17  BUNLevels                      1879 non-null   float64\n",
      " 18  CholesterolTotal               1879 non-null   float64\n",
      " 19  CholesterolLDL                 1879 non-null   float64\n",
      " 20  CholesterolHDL                 1879 non-null   float64\n",
      " 21  CholesterolTriglycerides       1879 non-null   float64\n",
      " 22  AntihypertensiveMedications    1879 non-null   int64  \n",
      " 23  Statins                        1879 non-null   int64  \n",
      " 24  AntidiabeticMedications        1879 non-null   int64  \n",
      " 25  FrequentUrination              1879 non-null   int64  \n",
      " 26  ExcessiveThirst                1879 non-null   int64  \n",
      " 27  UnexplainedWeightLoss          1879 non-null   int64  \n",
      " 28  FatigueLevels                  1879 non-null   float64\n",
      " 29  BlurredVision                  1879 non-null   int64  \n",
      " 30  SlowHealingSores               1879 non-null   int64  \n",
      " 31  TinglingHandsFeet              1879 non-null   int64  \n",
      " 32  QualityOfLifeScore             1879 non-null   float64\n",
      " 33  HeavyMetalsExposure            1879 non-null   int64  \n",
      " 34  OccupationalExposureChemicals  1879 non-null   int64  \n",
      " 35  WaterQuality                   1879 non-null   int64  \n",
      " 36  MedicalCheckupsFrequency       1879 non-null   float64\n",
      " 37  MedicationAdherence            1879 non-null   float64\n",
      " 38  HealthLiteracy                 1879 non-null   float64\n",
      " 39  Diagnosis                      1879 non-null   int64  \n",
      "dtypes: float64(18), int64(22)\n",
      "memory usage: 587.3 KB\n"
     ]
    }
   ],
   "source": [
    "#Drop yang tidak digunakan\n",
    "data = df.drop(columns=['PatientID','Gender','Ethnicity','SocioeconomicStatus','EducationLevel','DoctorInCharge'])\n",
    "data.info()"
   ]
  },
  {
   "cell_type": "code",
   "execution_count": 5,
   "id": "fabae2b6",
   "metadata": {
    "execution": {
     "iopub.execute_input": "2025-03-04T05:38:19.868898Z",
     "iopub.status.busy": "2025-03-04T05:38:19.868523Z",
     "iopub.status.idle": "2025-03-04T05:38:19.880566Z",
     "shell.execute_reply": "2025-03-04T05:38:19.879526Z"
    },
    "papermill": {
     "duration": 0.022675,
     "end_time": "2025-03-04T05:38:19.882660",
     "exception": false,
     "start_time": "2025-03-04T05:38:19.859985",
     "status": "completed"
    },
    "tags": []
   },
   "outputs": [
    {
     "name": "stdout",
     "output_type": "stream",
     "text": [
      "<class 'pandas.core.frame.DataFrame'>\n",
      "RangeIndex: 1879 entries, 0 to 1878\n",
      "Data columns (total 39 columns):\n",
      " #   Column                         Non-Null Count  Dtype  \n",
      "---  ------                         --------------  -----  \n",
      " 0   Age                            1879 non-null   int64  \n",
      " 1   BMI                            1879 non-null   float64\n",
      " 2   Smoking                        1879 non-null   int64  \n",
      " 3   AlcoholConsumption             1879 non-null   float64\n",
      " 4   PhysicalActivity               1879 non-null   float64\n",
      " 5   DietQuality                    1879 non-null   float64\n",
      " 6   SleepQuality                   1879 non-null   float64\n",
      " 7   FamilyHistoryDiabetes          1879 non-null   int64  \n",
      " 8   GestationalDiabetes            1879 non-null   int64  \n",
      " 9   PolycysticOvarySyndrome        1879 non-null   int64  \n",
      " 10  PreviousPreDiabetes            1879 non-null   int64  \n",
      " 11  Hypertension                   1879 non-null   int64  \n",
      " 12  SystolicBP                     1879 non-null   int64  \n",
      " 13  DiastolicBP                    1879 non-null   int64  \n",
      " 14  FastingBloodSugar              1879 non-null   float64\n",
      " 15  HbA1c                          1879 non-null   float64\n",
      " 16  SerumCreatinine                1879 non-null   float64\n",
      " 17  BUNLevels                      1879 non-null   float64\n",
      " 18  CholesterolTotal               1879 non-null   float64\n",
      " 19  CholesterolLDL                 1879 non-null   float64\n",
      " 20  CholesterolHDL                 1879 non-null   float64\n",
      " 21  CholesterolTriglycerides       1879 non-null   float64\n",
      " 22  AntihypertensiveMedications    1879 non-null   int64  \n",
      " 23  Statins                        1879 non-null   int64  \n",
      " 24  AntidiabeticMedications        1879 non-null   int64  \n",
      " 25  FrequentUrination              1879 non-null   int64  \n",
      " 26  ExcessiveThirst                1879 non-null   int64  \n",
      " 27  UnexplainedWeightLoss          1879 non-null   int64  \n",
      " 28  FatigueLevels                  1879 non-null   float64\n",
      " 29  BlurredVision                  1879 non-null   int64  \n",
      " 30  SlowHealingSores               1879 non-null   int64  \n",
      " 31  TinglingHandsFeet              1879 non-null   int64  \n",
      " 32  QualityOfLifeScore             1879 non-null   float64\n",
      " 33  HeavyMetalsExposure            1879 non-null   int64  \n",
      " 34  OccupationalExposureChemicals  1879 non-null   int64  \n",
      " 35  WaterQuality                   1879 non-null   int64  \n",
      " 36  MedicalCheckupsFrequency       1879 non-null   float64\n",
      " 37  MedicationAdherence            1879 non-null   float64\n",
      " 38  HealthLiteracy                 1879 non-null   float64\n",
      "dtypes: float64(18), int64(21)\n",
      "memory usage: 572.6 KB\n"
     ]
    }
   ],
   "source": [
    "y = data['Diagnosis'] #ambil diagnosis saja\n",
    "del data['Diagnosis'] #diagnosis dihapus dari data\n",
    "data.info()"
   ]
  },
  {
   "cell_type": "code",
   "execution_count": 6,
   "id": "5fcd79f9",
   "metadata": {
    "execution": {
     "iopub.execute_input": "2025-03-04T05:38:19.897772Z",
     "iopub.status.busy": "2025-03-04T05:38:19.897394Z",
     "iopub.status.idle": "2025-03-04T05:38:19.901715Z",
     "shell.execute_reply": "2025-03-04T05:38:19.900665Z"
    },
    "papermill": {
     "duration": 0.013724,
     "end_time": "2025-03-04T05:38:19.903418",
     "exception": false,
     "start_time": "2025-03-04T05:38:19.889694",
     "status": "completed"
    },
    "tags": []
   },
   "outputs": [],
   "source": [
    "x = data\n",
    "del data"
   ]
  },
  {
   "cell_type": "code",
   "execution_count": 7,
   "id": "daf72fa9",
   "metadata": {
    "execution": {
     "iopub.execute_input": "2025-03-04T05:38:19.918587Z",
     "iopub.status.busy": "2025-03-04T05:38:19.918033Z",
     "iopub.status.idle": "2025-03-04T05:38:19.949369Z",
     "shell.execute_reply": "2025-03-04T05:38:19.948106Z"
    },
    "papermill": {
     "duration": 0.040872,
     "end_time": "2025-03-04T05:38:19.951105",
     "exception": false,
     "start_time": "2025-03-04T05:38:19.910233",
     "status": "completed"
    },
    "tags": []
   },
   "outputs": [
    {
     "data": {
      "text/html": [
       "<div>\n",
       "<style scoped>\n",
       "    .dataframe tbody tr th:only-of-type {\n",
       "        vertical-align: middle;\n",
       "    }\n",
       "\n",
       "    .dataframe tbody tr th {\n",
       "        vertical-align: top;\n",
       "    }\n",
       "\n",
       "    .dataframe thead th {\n",
       "        text-align: right;\n",
       "    }\n",
       "</style>\n",
       "<table border=\"1\" class=\"dataframe\">\n",
       "  <thead>\n",
       "    <tr style=\"text-align: right;\">\n",
       "      <th></th>\n",
       "      <th>Age</th>\n",
       "      <th>BMI</th>\n",
       "      <th>Smoking</th>\n",
       "      <th>AlcoholConsumption</th>\n",
       "      <th>PhysicalActivity</th>\n",
       "      <th>DietQuality</th>\n",
       "      <th>SleepQuality</th>\n",
       "      <th>FamilyHistoryDiabetes</th>\n",
       "      <th>GestationalDiabetes</th>\n",
       "      <th>PolycysticOvarySyndrome</th>\n",
       "      <th>...</th>\n",
       "      <th>BlurredVision</th>\n",
       "      <th>SlowHealingSores</th>\n",
       "      <th>TinglingHandsFeet</th>\n",
       "      <th>QualityOfLifeScore</th>\n",
       "      <th>HeavyMetalsExposure</th>\n",
       "      <th>OccupationalExposureChemicals</th>\n",
       "      <th>WaterQuality</th>\n",
       "      <th>MedicalCheckupsFrequency</th>\n",
       "      <th>MedicationAdherence</th>\n",
       "      <th>HealthLiteracy</th>\n",
       "    </tr>\n",
       "  </thead>\n",
       "  <tbody>\n",
       "    <tr>\n",
       "      <th>0</th>\n",
       "      <td>44</td>\n",
       "      <td>32.985284</td>\n",
       "      <td>1</td>\n",
       "      <td>4.499365</td>\n",
       "      <td>2.443385</td>\n",
       "      <td>4.898831</td>\n",
       "      <td>4.049885</td>\n",
       "      <td>1</td>\n",
       "      <td>1</td>\n",
       "      <td>0</td>\n",
       "      <td>...</td>\n",
       "      <td>0</td>\n",
       "      <td>0</td>\n",
       "      <td>1</td>\n",
       "      <td>73.765109</td>\n",
       "      <td>0</td>\n",
       "      <td>0</td>\n",
       "      <td>0</td>\n",
       "      <td>1.782724</td>\n",
       "      <td>4.486980</td>\n",
       "      <td>7.211349</td>\n",
       "    </tr>\n",
       "    <tr>\n",
       "      <th>1</th>\n",
       "      <td>51</td>\n",
       "      <td>39.916764</td>\n",
       "      <td>0</td>\n",
       "      <td>1.578919</td>\n",
       "      <td>8.301264</td>\n",
       "      <td>8.941093</td>\n",
       "      <td>7.508150</td>\n",
       "      <td>0</td>\n",
       "      <td>0</td>\n",
       "      <td>0</td>\n",
       "      <td>...</td>\n",
       "      <td>0</td>\n",
       "      <td>0</td>\n",
       "      <td>0</td>\n",
       "      <td>91.445753</td>\n",
       "      <td>0</td>\n",
       "      <td>0</td>\n",
       "      <td>1</td>\n",
       "      <td>3.381070</td>\n",
       "      <td>5.961705</td>\n",
       "      <td>5.024612</td>\n",
       "    </tr>\n",
       "    <tr>\n",
       "      <th>2</th>\n",
       "      <td>89</td>\n",
       "      <td>19.782251</td>\n",
       "      <td>0</td>\n",
       "      <td>1.177301</td>\n",
       "      <td>6.103395</td>\n",
       "      <td>7.722543</td>\n",
       "      <td>7.708387</td>\n",
       "      <td>1</td>\n",
       "      <td>0</td>\n",
       "      <td>0</td>\n",
       "      <td>...</td>\n",
       "      <td>0</td>\n",
       "      <td>0</td>\n",
       "      <td>0</td>\n",
       "      <td>54.485744</td>\n",
       "      <td>0</td>\n",
       "      <td>0</td>\n",
       "      <td>0</td>\n",
       "      <td>2.701019</td>\n",
       "      <td>8.950821</td>\n",
       "      <td>7.034944</td>\n",
       "    </tr>\n",
       "    <tr>\n",
       "      <th>3</th>\n",
       "      <td>21</td>\n",
       "      <td>32.376881</td>\n",
       "      <td>1</td>\n",
       "      <td>1.714621</td>\n",
       "      <td>8.645465</td>\n",
       "      <td>4.804044</td>\n",
       "      <td>6.286548</td>\n",
       "      <td>1</td>\n",
       "      <td>1</td>\n",
       "      <td>0</td>\n",
       "      <td>...</td>\n",
       "      <td>0</td>\n",
       "      <td>0</td>\n",
       "      <td>0</td>\n",
       "      <td>77.866758</td>\n",
       "      <td>0</td>\n",
       "      <td>0</td>\n",
       "      <td>1</td>\n",
       "      <td>1.409056</td>\n",
       "      <td>3.124769</td>\n",
       "      <td>4.717774</td>\n",
       "    </tr>\n",
       "    <tr>\n",
       "      <th>4</th>\n",
       "      <td>27</td>\n",
       "      <td>16.808600</td>\n",
       "      <td>0</td>\n",
       "      <td>15.462549</td>\n",
       "      <td>4.629383</td>\n",
       "      <td>2.532756</td>\n",
       "      <td>9.771125</td>\n",
       "      <td>0</td>\n",
       "      <td>0</td>\n",
       "      <td>0</td>\n",
       "      <td>...</td>\n",
       "      <td>0</td>\n",
       "      <td>0</td>\n",
       "      <td>0</td>\n",
       "      <td>37.731808</td>\n",
       "      <td>0</td>\n",
       "      <td>0</td>\n",
       "      <td>0</td>\n",
       "      <td>1.218452</td>\n",
       "      <td>6.977741</td>\n",
       "      <td>7.887940</td>\n",
       "    </tr>\n",
       "  </tbody>\n",
       "</table>\n",
       "<p>5 rows × 39 columns</p>\n",
       "</div>"
      ],
      "text/plain": [
       "   Age        BMI  Smoking  AlcoholConsumption  PhysicalActivity  DietQuality  \\\n",
       "0   44  32.985284        1            4.499365          2.443385     4.898831   \n",
       "1   51  39.916764        0            1.578919          8.301264     8.941093   \n",
       "2   89  19.782251        0            1.177301          6.103395     7.722543   \n",
       "3   21  32.376881        1            1.714621          8.645465     4.804044   \n",
       "4   27  16.808600        0           15.462549          4.629383     2.532756   \n",
       "\n",
       "   SleepQuality  FamilyHistoryDiabetes  GestationalDiabetes  \\\n",
       "0      4.049885                      1                    1   \n",
       "1      7.508150                      0                    0   \n",
       "2      7.708387                      1                    0   \n",
       "3      6.286548                      1                    1   \n",
       "4      9.771125                      0                    0   \n",
       "\n",
       "   PolycysticOvarySyndrome  ...  BlurredVision  SlowHealingSores  \\\n",
       "0                        0  ...              0                 0   \n",
       "1                        0  ...              0                 0   \n",
       "2                        0  ...              0                 0   \n",
       "3                        0  ...              0                 0   \n",
       "4                        0  ...              0                 0   \n",
       "\n",
       "   TinglingHandsFeet  QualityOfLifeScore  HeavyMetalsExposure  \\\n",
       "0                  1           73.765109                    0   \n",
       "1                  0           91.445753                    0   \n",
       "2                  0           54.485744                    0   \n",
       "3                  0           77.866758                    0   \n",
       "4                  0           37.731808                    0   \n",
       "\n",
       "   OccupationalExposureChemicals  WaterQuality  MedicalCheckupsFrequency  \\\n",
       "0                              0             0                  1.782724   \n",
       "1                              0             1                  3.381070   \n",
       "2                              0             0                  2.701019   \n",
       "3                              0             1                  1.409056   \n",
       "4                              0             0                  1.218452   \n",
       "\n",
       "   MedicationAdherence  HealthLiteracy  \n",
       "0             4.486980        7.211349  \n",
       "1             5.961705        5.024612  \n",
       "2             8.950821        7.034944  \n",
       "3             3.124769        4.717774  \n",
       "4             6.977741        7.887940  \n",
       "\n",
       "[5 rows x 39 columns]"
      ]
     },
     "execution_count": 7,
     "metadata": {},
     "output_type": "execute_result"
    }
   ],
   "source": [
    "x.head()"
   ]
  },
  {
   "cell_type": "markdown",
   "id": "f828e527",
   "metadata": {
    "papermill": {
     "duration": 0.006659,
     "end_time": "2025-03-04T05:38:19.964804",
     "exception": false,
     "start_time": "2025-03-04T05:38:19.958145",
     "status": "completed"
    },
    "tags": []
   },
   "source": [
    "note: Fungsi StandardScaler dari sklearn.preprocessing digunakan untuk menstandarisasi fitur dalam dataset kamu, biasanya agar setiap fitur memiliki mean = 0 dan standar deviasi = 1. Ini penting terutama untuk algoritma yang sensitif terhadap skala fitur, seperti SVM, K-means, dan neural networks. Perubahannya nampak pas di transform tapi tetap harus di dataframe kan alias kek kayak table data itu pakai library pandas"
   ]
  },
  {
   "cell_type": "markdown",
   "id": "9eb302d5",
   "metadata": {
    "papermill": {
     "duration": 0.006784,
     "end_time": "2025-03-04T05:38:19.978497",
     "exception": false,
     "start_time": "2025-03-04T05:38:19.971713",
     "status": "completed"
    },
    "tags": []
   },
   "source": [
    "### **> PERBAIKAN: Karena data banyak outlier, pakai robustScaler instead of StandartScaler awalnya**"
   ]
  },
  {
   "cell_type": "code",
   "execution_count": 8,
   "id": "f51839e4",
   "metadata": {
    "execution": {
     "iopub.execute_input": "2025-03-04T05:38:19.993790Z",
     "iopub.status.busy": "2025-03-04T05:38:19.993366Z",
     "iopub.status.idle": "2025-03-04T05:38:21.537507Z",
     "shell.execute_reply": "2025-03-04T05:38:21.536178Z"
    },
    "papermill": {
     "duration": 1.554379,
     "end_time": "2025-03-04T05:38:21.539803",
     "exception": false,
     "start_time": "2025-03-04T05:38:19.985424",
     "status": "completed"
    },
    "tags": []
   },
   "outputs": [],
   "source": [
    "from sklearn.preprocessing import RobustScaler\n",
    "scaler = RobustScaler()\n",
    "scaler.fit(x)\n",
    "scaled_x = scaler.transform(x)\n",
    "scaled_x = pd.DataFrame(scaled_x, columns = x.columns)"
   ]
  },
  {
   "cell_type": "code",
   "execution_count": 9,
   "id": "c8042274",
   "metadata": {
    "execution": {
     "iopub.execute_input": "2025-03-04T05:38:21.556758Z",
     "iopub.status.busy": "2025-03-04T05:38:21.556051Z",
     "iopub.status.idle": "2025-03-04T05:38:21.582190Z",
     "shell.execute_reply": "2025-03-04T05:38:21.581059Z"
    },
    "papermill": {
     "duration": 0.036373,
     "end_time": "2025-03-04T05:38:21.583886",
     "exception": false,
     "start_time": "2025-03-04T05:38:21.547513",
     "status": "completed"
    },
    "tags": []
   },
   "outputs": [
    {
     "data": {
      "text/html": [
       "<div>\n",
       "<style scoped>\n",
       "    .dataframe tbody tr th:only-of-type {\n",
       "        vertical-align: middle;\n",
       "    }\n",
       "\n",
       "    .dataframe tbody tr th {\n",
       "        vertical-align: top;\n",
       "    }\n",
       "\n",
       "    .dataframe thead th {\n",
       "        text-align: right;\n",
       "    }\n",
       "</style>\n",
       "<table border=\"1\" class=\"dataframe\">\n",
       "  <thead>\n",
       "    <tr style=\"text-align: right;\">\n",
       "      <th></th>\n",
       "      <th>Age</th>\n",
       "      <th>BMI</th>\n",
       "      <th>Smoking</th>\n",
       "      <th>AlcoholConsumption</th>\n",
       "      <th>PhysicalActivity</th>\n",
       "      <th>DietQuality</th>\n",
       "      <th>SleepQuality</th>\n",
       "      <th>FamilyHistoryDiabetes</th>\n",
       "      <th>GestationalDiabetes</th>\n",
       "      <th>PolycysticOvarySyndrome</th>\n",
       "      <th>...</th>\n",
       "      <th>BlurredVision</th>\n",
       "      <th>SlowHealingSores</th>\n",
       "      <th>TinglingHandsFeet</th>\n",
       "      <th>QualityOfLifeScore</th>\n",
       "      <th>HeavyMetalsExposure</th>\n",
       "      <th>OccupationalExposureChemicals</th>\n",
       "      <th>WaterQuality</th>\n",
       "      <th>MedicalCheckupsFrequency</th>\n",
       "      <th>MedicationAdherence</th>\n",
       "      <th>HealthLiteracy</th>\n",
       "    </tr>\n",
       "  </thead>\n",
       "  <tbody>\n",
       "    <tr>\n",
       "      <th>0</th>\n",
       "      <td>-0.314286</td>\n",
       "      <td>0.424842</td>\n",
       "      <td>1.0</td>\n",
       "      <td>-0.540653</td>\n",
       "      <td>-0.570203</td>\n",
       "      <td>0.002104</td>\n",
       "      <td>-1.000915</td>\n",
       "      <td>1.0</td>\n",
       "      <td>1.0</td>\n",
       "      <td>0.0</td>\n",
       "      <td>...</td>\n",
       "      <td>0.0</td>\n",
       "      <td>0.0</td>\n",
       "      <td>1.0</td>\n",
       "      <td>0.536616</td>\n",
       "      <td>0.0</td>\n",
       "      <td>0.0</td>\n",
       "      <td>0.0</td>\n",
       "      <td>-0.108274</td>\n",
       "      <td>-0.070065</td>\n",
       "      <td>0.420368</td>\n",
       "    </tr>\n",
       "    <tr>\n",
       "      <th>1</th>\n",
       "      <td>-0.114286</td>\n",
       "      <td>0.984443</td>\n",
       "      <td>0.0</td>\n",
       "      <td>-0.818907</td>\n",
       "      <td>0.620331</td>\n",
       "      <td>0.830563</td>\n",
       "      <td>0.135915</td>\n",
       "      <td>0.0</td>\n",
       "      <td>0.0</td>\n",
       "      <td>0.0</td>\n",
       "      <td>...</td>\n",
       "      <td>0.0</td>\n",
       "      <td>0.0</td>\n",
       "      <td>0.0</td>\n",
       "      <td>0.898117</td>\n",
       "      <td>0.0</td>\n",
       "      <td>0.0</td>\n",
       "      <td>1.0</td>\n",
       "      <td>0.738209</td>\n",
       "      <td>0.219442</td>\n",
       "      <td>-0.002047</td>\n",
       "    </tr>\n",
       "    <tr>\n",
       "      <th>2</th>\n",
       "      <td>0.971429</td>\n",
       "      <td>-0.641081</td>\n",
       "      <td>0.0</td>\n",
       "      <td>-0.857172</td>\n",
       "      <td>0.173644</td>\n",
       "      <td>0.580822</td>\n",
       "      <td>0.201739</td>\n",
       "      <td>1.0</td>\n",
       "      <td>0.0</td>\n",
       "      <td>0.0</td>\n",
       "      <td>...</td>\n",
       "      <td>0.0</td>\n",
       "      <td>0.0</td>\n",
       "      <td>0.0</td>\n",
       "      <td>0.142429</td>\n",
       "      <td>0.0</td>\n",
       "      <td>0.0</td>\n",
       "      <td>0.0</td>\n",
       "      <td>0.378054</td>\n",
       "      <td>0.806244</td>\n",
       "      <td>0.386292</td>\n",
       "    </tr>\n",
       "    <tr>\n",
       "      <th>3</th>\n",
       "      <td>-0.971429</td>\n",
       "      <td>0.375724</td>\n",
       "      <td>1.0</td>\n",
       "      <td>-0.805977</td>\n",
       "      <td>0.690285</td>\n",
       "      <td>-0.017323</td>\n",
       "      <td>-0.265660</td>\n",
       "      <td>1.0</td>\n",
       "      <td>1.0</td>\n",
       "      <td>0.0</td>\n",
       "      <td>...</td>\n",
       "      <td>0.0</td>\n",
       "      <td>0.0</td>\n",
       "      <td>0.0</td>\n",
       "      <td>0.620479</td>\n",
       "      <td>0.0</td>\n",
       "      <td>0.0</td>\n",
       "      <td>1.0</td>\n",
       "      <td>-0.306169</td>\n",
       "      <td>-0.337485</td>\n",
       "      <td>-0.061319</td>\n",
       "    </tr>\n",
       "    <tr>\n",
       "      <th>4</th>\n",
       "      <td>-0.800000</td>\n",
       "      <td>-0.881153</td>\n",
       "      <td>0.0</td>\n",
       "      <td>0.503894</td>\n",
       "      <td>-0.125929</td>\n",
       "      <td>-0.482821</td>\n",
       "      <td>0.879820</td>\n",
       "      <td>0.0</td>\n",
       "      <td>0.0</td>\n",
       "      <td>0.0</td>\n",
       "      <td>...</td>\n",
       "      <td>0.0</td>\n",
       "      <td>0.0</td>\n",
       "      <td>0.0</td>\n",
       "      <td>-0.200124</td>\n",
       "      <td>0.0</td>\n",
       "      <td>0.0</td>\n",
       "      <td>0.0</td>\n",
       "      <td>-0.407113</td>\n",
       "      <td>0.418903</td>\n",
       "      <td>0.551066</td>\n",
       "    </tr>\n",
       "  </tbody>\n",
       "</table>\n",
       "<p>5 rows × 39 columns</p>\n",
       "</div>"
      ],
      "text/plain": [
       "        Age       BMI  Smoking  AlcoholConsumption  PhysicalActivity  \\\n",
       "0 -0.314286  0.424842      1.0           -0.540653         -0.570203   \n",
       "1 -0.114286  0.984443      0.0           -0.818907          0.620331   \n",
       "2  0.971429 -0.641081      0.0           -0.857172          0.173644   \n",
       "3 -0.971429  0.375724      1.0           -0.805977          0.690285   \n",
       "4 -0.800000 -0.881153      0.0            0.503894         -0.125929   \n",
       "\n",
       "   DietQuality  SleepQuality  FamilyHistoryDiabetes  GestationalDiabetes  \\\n",
       "0     0.002104     -1.000915                    1.0                  1.0   \n",
       "1     0.830563      0.135915                    0.0                  0.0   \n",
       "2     0.580822      0.201739                    1.0                  0.0   \n",
       "3    -0.017323     -0.265660                    1.0                  1.0   \n",
       "4    -0.482821      0.879820                    0.0                  0.0   \n",
       "\n",
       "   PolycysticOvarySyndrome  ...  BlurredVision  SlowHealingSores  \\\n",
       "0                      0.0  ...            0.0               0.0   \n",
       "1                      0.0  ...            0.0               0.0   \n",
       "2                      0.0  ...            0.0               0.0   \n",
       "3                      0.0  ...            0.0               0.0   \n",
       "4                      0.0  ...            0.0               0.0   \n",
       "\n",
       "   TinglingHandsFeet  QualityOfLifeScore  HeavyMetalsExposure  \\\n",
       "0                1.0            0.536616                  0.0   \n",
       "1                0.0            0.898117                  0.0   \n",
       "2                0.0            0.142429                  0.0   \n",
       "3                0.0            0.620479                  0.0   \n",
       "4                0.0           -0.200124                  0.0   \n",
       "\n",
       "   OccupationalExposureChemicals  WaterQuality  MedicalCheckupsFrequency  \\\n",
       "0                            0.0           0.0                 -0.108274   \n",
       "1                            0.0           1.0                  0.738209   \n",
       "2                            0.0           0.0                  0.378054   \n",
       "3                            0.0           1.0                 -0.306169   \n",
       "4                            0.0           0.0                 -0.407113   \n",
       "\n",
       "   MedicationAdherence  HealthLiteracy  \n",
       "0            -0.070065        0.420368  \n",
       "1             0.219442       -0.002047  \n",
       "2             0.806244        0.386292  \n",
       "3            -0.337485       -0.061319  \n",
       "4             0.418903        0.551066  \n",
       "\n",
       "[5 rows x 39 columns]"
      ]
     },
     "execution_count": 9,
     "metadata": {},
     "output_type": "execute_result"
    }
   ],
   "source": [
    "scaled_x.head()"
   ]
  },
  {
   "cell_type": "code",
   "execution_count": 10,
   "id": "9e43c1c9",
   "metadata": {
    "execution": {
     "iopub.execute_input": "2025-03-04T05:38:21.600696Z",
     "iopub.status.busy": "2025-03-04T05:38:21.600308Z",
     "iopub.status.idle": "2025-03-04T05:38:21.721485Z",
     "shell.execute_reply": "2025-03-04T05:38:21.720308Z"
    },
    "papermill": {
     "duration": 0.131866,
     "end_time": "2025-03-04T05:38:21.723493",
     "exception": false,
     "start_time": "2025-03-04T05:38:21.591627",
     "status": "completed"
    },
    "tags": []
   },
   "outputs": [
    {
     "name": "stdout",
     "output_type": "stream",
     "text": [
      "x_train_scaled: (1315, 39), y_train: (1315,)\n",
      "x_val_scaled: (282, 39), y_val: (282,)\n",
      "x_test_scaled: (282, 39), y_test: (282,)\n"
     ]
    }
   ],
   "source": [
    "from sklearn.model_selection import train_test_split\n",
    "\n",
    "# Split data: 70% train, 15% val, 15% test\n",
    "x_train_scaled, x_temp, y_train, y_temp = train_test_split(scaled_x, y, test_size=0.3, random_state=42)\n",
    "x_val_scaled, x_test_scaled, y_val, y_test = train_test_split(x_temp, y_temp, test_size=0.5, random_state=42)\n",
    "\n",
    "print(f\"x_train_scaled: {x_train_scaled.shape}, y_train: {y_train.shape}\")\n",
    "print(f\"x_val_scaled: {x_val_scaled.shape}, y_val: {y_val.shape}\")\n",
    "print(f\"x_test_scaled: {x_test_scaled.shape}, y_test: {y_test.shape}\")\n"
   ]
  },
  {
   "cell_type": "markdown",
   "id": "45bcce58",
   "metadata": {
    "papermill": {
     "duration": 0.007256,
     "end_time": "2025-03-04T05:38:21.739211",
     "exception": false,
     "start_time": "2025-03-04T05:38:21.731955",
     "status": "completed"
    },
    "tags": []
   },
   "source": [
    "x_train, y_train → untuk training model\n",
    "x_val_scaled, y_val → untuk validasi saat training (monitoring loss, accuracy, dll.)\n",
    "x_test, y_test → untuk evaluasi akhir setelah training selesai"
   ]
  },
  {
   "cell_type": "code",
   "execution_count": 11,
   "id": "c2602566",
   "metadata": {
    "execution": {
     "iopub.execute_input": "2025-03-04T05:38:21.756029Z",
     "iopub.status.busy": "2025-03-04T05:38:21.755641Z",
     "iopub.status.idle": "2025-03-04T05:38:21.761918Z",
     "shell.execute_reply": "2025-03-04T05:38:21.760712Z"
    },
    "papermill": {
     "duration": 0.016497,
     "end_time": "2025-03-04T05:38:21.763732",
     "exception": false,
     "start_time": "2025-03-04T05:38:21.747235",
     "status": "completed"
    },
    "tags": []
   },
   "outputs": [
    {
     "name": "stdout",
     "output_type": "stream",
     "text": [
      "Shape of x_train: (1315, 39)\n",
      "Shape of y_train: (1315,)\n"
     ]
    }
   ],
   "source": [
    "import numpy as np\n",
    "\n",
    "print(\"Shape of x_train:\", x_train_scaled.shape) #used for creating a model\n",
    "print(\"Shape of y_train:\", y_train.shape)\n",
    "     "
   ]
  },
  {
   "cell_type": "markdown",
   "id": "ded2e966",
   "metadata": {
    "papermill": {
     "duration": 0.007759,
     "end_time": "2025-03-04T05:38:21.779464",
     "exception": false,
     "start_time": "2025-03-04T05:38:21.771705",
     "status": "completed"
    },
    "tags": []
   },
   "source": [
    "# Create a Model\n",
    "\n",
    "Binary classification neural networks"
   ]
  },
  {
   "cell_type": "code",
   "execution_count": 12,
   "id": "5116ca40",
   "metadata": {
    "execution": {
     "iopub.execute_input": "2025-03-04T05:38:21.796251Z",
     "iopub.status.busy": "2025-03-04T05:38:21.795919Z",
     "iopub.status.idle": "2025-03-04T05:38:37.776051Z",
     "shell.execute_reply": "2025-03-04T05:38:37.774630Z"
    },
    "papermill": {
     "duration": 15.991016,
     "end_time": "2025-03-04T05:38:37.778272",
     "exception": false,
     "start_time": "2025-03-04T05:38:21.787256",
     "status": "completed"
    },
    "tags": []
   },
   "outputs": [],
   "source": [
    "from tensorflow.keras.models import Sequential\n",
    "from tensorflow.keras.layers import Dense, Input\n",
    "\n",
    "#input layer\n",
    "basic_model = Sequential([\n",
    "    Input(shape=(39,)),  # layer input\n",
    "    Dense(units=16, activation='relu')  # layer hidden\n",
    "])\n",
    "#Input shape nya ngikutin shape x train"
   ]
  },
  {
   "cell_type": "markdown",
   "id": "def09d0e",
   "metadata": {
    "papermill": {
     "duration": 0.007138,
     "end_time": "2025-03-04T05:38:37.793222",
     "exception": false,
     "start_time": "2025-03-04T05:38:37.786084",
     "status": "completed"
    },
    "tags": []
   },
   "source": [
    "Dense is a type of layer in Keras, representing a fully connected layer. It has 16 units, which means it has 16 neurons.\n",
    "\n",
    "activation='relu' specifies the Rectified Linear Unit (ReLU) activation function, which is commonly used in input or hidden layers of neural networks.\n",
    "\n",
    "input_shape=(13,) indicates the shape of the input data for this layer. In this case, we are using 13 input features (columns)."
   ]
  },
  {
   "cell_type": "code",
   "execution_count": 13,
   "id": "ff709388",
   "metadata": {
    "execution": {
     "iopub.execute_input": "2025-03-04T05:38:37.810204Z",
     "iopub.status.busy": "2025-03-04T05:38:37.809364Z",
     "iopub.status.idle": "2025-03-04T05:38:37.828849Z",
     "shell.execute_reply": "2025-03-04T05:38:37.827539Z"
    },
    "papermill": {
     "duration": 0.030174,
     "end_time": "2025-03-04T05:38:37.830833",
     "exception": false,
     "start_time": "2025-03-04T05:38:37.800659",
     "status": "completed"
    },
    "tags": []
   },
   "outputs": [],
   "source": [
    "#Output layer\n",
    "basic_model.add(Dense(1, activation='sigmoid'))"
   ]
  },
  {
   "cell_type": "markdown",
   "id": "8e7827fe",
   "metadata": {
    "papermill": {
     "duration": 0.007025,
     "end_time": "2025-03-04T05:38:37.845376",
     "exception": false,
     "start_time": "2025-03-04T05:38:37.838351",
     "status": "completed"
    },
    "tags": []
   },
   "source": [
    "Dense adalah layer fully connected, artinya setiap neuron di layer sebelumnya terhubung ke setiap neuron di layer ini.\n",
    "1 menunjukkan jumlah neuron di layer output, yang berarti model hanya menghasilkan satu output.\n",
    "Ini cocok untuk binary classification (klasifikasi biner) — seperti 0 atau 1, ya atau tidak, sakit atau sehat.\n",
    "2. activation='sigmoid'\n",
    "Sigmoid activation function memetakan output ke rentang (0, 1).\n",
    "Rumusnya:\n",
    "Contohnya:\n",
    "0.9 berarti model yakin 90% bahwa output adalah kelas 1 (misalnya \"positif diabetes\").\n",
    "0.1 berarti model yakin 10% bahwa output adalah kelas 1 (atau 90% kelas 0)."
   ]
  },
  {
   "cell_type": "code",
   "execution_count": 14,
   "id": "c909d4d7",
   "metadata": {
    "execution": {
     "iopub.execute_input": "2025-03-04T05:38:37.861692Z",
     "iopub.status.busy": "2025-03-04T05:38:37.861272Z",
     "iopub.status.idle": "2025-03-04T05:38:37.873815Z",
     "shell.execute_reply": "2025-03-04T05:38:37.872598Z"
    },
    "papermill": {
     "duration": 0.023307,
     "end_time": "2025-03-04T05:38:37.876214",
     "exception": false,
     "start_time": "2025-03-04T05:38:37.852907",
     "status": "completed"
    },
    "tags": []
   },
   "outputs": [],
   "source": [
    "import tensorflow as tf #import\n",
    "#Optimizer\n",
    "adam = tf.keras.optimizers.Adam(learning_rate=0.001)"
   ]
  },
  {
   "cell_type": "markdown",
   "id": "a38521de",
   "metadata": {
    "papermill": {
     "duration": 0.007871,
     "end_time": "2025-03-04T05:38:37.892200",
     "exception": false,
     "start_time": "2025-03-04T05:38:37.884329",
     "status": "completed"
    },
    "tags": []
   },
   "source": [
    "# Compile Model"
   ]
  },
  {
   "cell_type": "code",
   "execution_count": 15,
   "id": "4338c5a0",
   "metadata": {
    "execution": {
     "iopub.execute_input": "2025-03-04T05:38:37.909299Z",
     "iopub.status.busy": "2025-03-04T05:38:37.908880Z",
     "iopub.status.idle": "2025-03-04T05:38:37.918788Z",
     "shell.execute_reply": "2025-03-04T05:38:37.917745Z"
    },
    "papermill": {
     "duration": 0.02065,
     "end_time": "2025-03-04T05:38:37.920681",
     "exception": false,
     "start_time": "2025-03-04T05:38:37.900031",
     "status": "completed"
    },
    "tags": []
   },
   "outputs": [],
   "source": [
    "basic_model.compile(loss='binary_crossentropy', optimizer=adam, metrics=['accuracy'])"
   ]
  },
  {
   "cell_type": "code",
   "execution_count": 16,
   "id": "4200baa0",
   "metadata": {
    "execution": {
     "iopub.execute_input": "2025-03-04T05:38:37.937772Z",
     "iopub.status.busy": "2025-03-04T05:38:37.937325Z",
     "iopub.status.idle": "2025-03-04T05:38:37.946548Z",
     "shell.execute_reply": "2025-03-04T05:38:37.944942Z"
    },
    "papermill": {
     "duration": 0.019804,
     "end_time": "2025-03-04T05:38:37.948389",
     "exception": false,
     "start_time": "2025-03-04T05:38:37.928585",
     "status": "completed"
    },
    "tags": []
   },
   "outputs": [],
   "source": [
    "from tensorflow.keras.callbacks import ReduceLROnPlateau, EarlyStopping\n",
    "\n",
    "callbacks = [\n",
    "    ReduceLROnPlateau(monitor='val_loss', factor=0.2, patience=5, min_lr=1e-5),\n",
    "    EarlyStopping(monitor='val_loss', patience=10, restore_best_weights=True)\n",
    "]"
   ]
  },
  {
   "cell_type": "markdown",
   "id": "c6bdf899",
   "metadata": {
    "papermill": {
     "duration": 0.007371,
     "end_time": "2025-03-04T05:38:37.963414",
     "exception": false,
     "start_time": "2025-03-04T05:38:37.956043",
     "status": "completed"
    },
    "tags": []
   },
   "source": [
    "# Train Model"
   ]
  },
  {
   "cell_type": "code",
   "execution_count": 17,
   "id": "ad898531",
   "metadata": {
    "execution": {
     "iopub.execute_input": "2025-03-04T05:38:37.980276Z",
     "iopub.status.busy": "2025-03-04T05:38:37.979814Z",
     "iopub.status.idle": "2025-03-04T05:38:43.545970Z",
     "shell.execute_reply": "2025-03-04T05:38:43.544733Z"
    },
    "papermill": {
     "duration": 5.576798,
     "end_time": "2025-03-04T05:38:43.547841",
     "exception": false,
     "start_time": "2025-03-04T05:38:37.971043",
     "status": "completed"
    },
    "tags": []
   },
   "outputs": [
    {
     "name": "stdout",
     "output_type": "stream",
     "text": [
      "Epoch 1/30\n",
      "\u001b[1m42/42\u001b[0m \u001b[32m━━━━━━━━━━━━━━━━━━━━\u001b[0m\u001b[37m\u001b[0m \u001b[1m1s\u001b[0m 7ms/step - accuracy: 0.4616 - loss: 0.7335 - val_accuracy: 0.4929 - val_loss: 0.7023 - learning_rate: 0.0010\n",
      "Epoch 2/30\n",
      "\u001b[1m42/42\u001b[0m \u001b[32m━━━━━━━━━━━━━━━━━━━━\u001b[0m\u001b[37m\u001b[0m \u001b[1m0s\u001b[0m 3ms/step - accuracy: 0.5804 - loss: 0.6753 - val_accuracy: 0.5674 - val_loss: 0.6598 - learning_rate: 0.0010\n",
      "Epoch 3/30\n",
      "\u001b[1m42/42\u001b[0m \u001b[32m━━━━━━━━━━━━━━━━━━━━\u001b[0m\u001b[37m\u001b[0m \u001b[1m0s\u001b[0m 3ms/step - accuracy: 0.6744 - loss: 0.6350 - val_accuracy: 0.6454 - val_loss: 0.6262 - learning_rate: 0.0010\n",
      "Epoch 4/30\n",
      "\u001b[1m42/42\u001b[0m \u001b[32m━━━━━━━━━━━━━━━━━━━━\u001b[0m\u001b[37m\u001b[0m \u001b[1m0s\u001b[0m 3ms/step - accuracy: 0.6983 - loss: 0.6003 - val_accuracy: 0.6773 - val_loss: 0.5959 - learning_rate: 0.0010\n",
      "Epoch 5/30\n",
      "\u001b[1m42/42\u001b[0m \u001b[32m━━━━━━━━━━━━━━━━━━━━\u001b[0m\u001b[37m\u001b[0m \u001b[1m0s\u001b[0m 3ms/step - accuracy: 0.7514 - loss: 0.5719 - val_accuracy: 0.7163 - val_loss: 0.5679 - learning_rate: 0.0010\n",
      "Epoch 6/30\n",
      "\u001b[1m42/42\u001b[0m \u001b[32m━━━━━━━━━━━━━━━━━━━━\u001b[0m\u001b[37m\u001b[0m \u001b[1m0s\u001b[0m 3ms/step - accuracy: 0.7783 - loss: 0.5363 - val_accuracy: 0.7376 - val_loss: 0.5391 - learning_rate: 0.0010\n",
      "Epoch 7/30\n",
      "\u001b[1m42/42\u001b[0m \u001b[32m━━━━━━━━━━━━━━━━━━━━\u001b[0m\u001b[37m\u001b[0m \u001b[1m0s\u001b[0m 3ms/step - accuracy: 0.7840 - loss: 0.5033 - val_accuracy: 0.7553 - val_loss: 0.5115 - learning_rate: 0.0010\n",
      "Epoch 8/30\n",
      "\u001b[1m42/42\u001b[0m \u001b[32m━━━━━━━━━━━━━━━━━━━━\u001b[0m\u001b[37m\u001b[0m \u001b[1m0s\u001b[0m 3ms/step - accuracy: 0.8237 - loss: 0.4786 - val_accuracy: 0.7730 - val_loss: 0.4855 - learning_rate: 0.0010\n",
      "Epoch 9/30\n",
      "\u001b[1m42/42\u001b[0m \u001b[32m━━━━━━━━━━━━━━━━━━━━\u001b[0m\u001b[37m\u001b[0m \u001b[1m0s\u001b[0m 3ms/step - accuracy: 0.8194 - loss: 0.4542 - val_accuracy: 0.7766 - val_loss: 0.4667 - learning_rate: 0.0010\n",
      "Epoch 10/30\n",
      "\u001b[1m42/42\u001b[0m \u001b[32m━━━━━━━━━━━━━━━━━━━━\u001b[0m\u001b[37m\u001b[0m \u001b[1m0s\u001b[0m 3ms/step - accuracy: 0.8465 - loss: 0.4137 - val_accuracy: 0.7837 - val_loss: 0.4505 - learning_rate: 0.0010\n",
      "Epoch 11/30\n",
      "\u001b[1m42/42\u001b[0m \u001b[32m━━━━━━━━━━━━━━━━━━━━\u001b[0m\u001b[37m\u001b[0m \u001b[1m0s\u001b[0m 3ms/step - accuracy: 0.8528 - loss: 0.4030 - val_accuracy: 0.7979 - val_loss: 0.4382 - learning_rate: 0.0010\n",
      "Epoch 12/30\n",
      "\u001b[1m42/42\u001b[0m \u001b[32m━━━━━━━━━━━━━━━━━━━━\u001b[0m\u001b[37m\u001b[0m \u001b[1m0s\u001b[0m 3ms/step - accuracy: 0.8521 - loss: 0.3936 - val_accuracy: 0.8085 - val_loss: 0.4269 - learning_rate: 0.0010\n",
      "Epoch 13/30\n",
      "\u001b[1m42/42\u001b[0m \u001b[32m━━━━━━━━━━━━━━━━━━━━\u001b[0m\u001b[37m\u001b[0m \u001b[1m0s\u001b[0m 3ms/step - accuracy: 0.8441 - loss: 0.3823 - val_accuracy: 0.8050 - val_loss: 0.4195 - learning_rate: 0.0010\n",
      "Epoch 14/30\n",
      "\u001b[1m42/42\u001b[0m \u001b[32m━━━━━━━━━━━━━━━━━━━━\u001b[0m\u001b[37m\u001b[0m \u001b[1m0s\u001b[0m 3ms/step - accuracy: 0.8657 - loss: 0.3722 - val_accuracy: 0.8121 - val_loss: 0.4126 - learning_rate: 0.0010\n",
      "Epoch 15/30\n",
      "\u001b[1m42/42\u001b[0m \u001b[32m━━━━━━━━━━━━━━━━━━━━\u001b[0m\u001b[37m\u001b[0m \u001b[1m0s\u001b[0m 3ms/step - accuracy: 0.8634 - loss: 0.3578 - val_accuracy: 0.8085 - val_loss: 0.4070 - learning_rate: 0.0010\n",
      "Epoch 16/30\n",
      "\u001b[1m42/42\u001b[0m \u001b[32m━━━━━━━━━━━━━━━━━━━━\u001b[0m\u001b[37m\u001b[0m \u001b[1m0s\u001b[0m 3ms/step - accuracy: 0.8586 - loss: 0.3530 - val_accuracy: 0.8191 - val_loss: 0.4039 - learning_rate: 0.0010\n",
      "Epoch 17/30\n",
      "\u001b[1m42/42\u001b[0m \u001b[32m━━━━━━━━━━━━━━━━━━━━\u001b[0m\u001b[37m\u001b[0m \u001b[1m0s\u001b[0m 3ms/step - accuracy: 0.8544 - loss: 0.3708 - val_accuracy: 0.8191 - val_loss: 0.4004 - learning_rate: 0.0010\n",
      "Epoch 18/30\n",
      "\u001b[1m42/42\u001b[0m \u001b[32m━━━━━━━━━━━━━━━━━━━━\u001b[0m\u001b[37m\u001b[0m \u001b[1m0s\u001b[0m 3ms/step - accuracy: 0.8522 - loss: 0.3566 - val_accuracy: 0.8191 - val_loss: 0.3969 - learning_rate: 0.0010\n",
      "Epoch 19/30\n",
      "\u001b[1m42/42\u001b[0m \u001b[32m━━━━━━━━━━━━━━━━━━━━\u001b[0m\u001b[37m\u001b[0m \u001b[1m0s\u001b[0m 3ms/step - accuracy: 0.8580 - loss: 0.3631 - val_accuracy: 0.8191 - val_loss: 0.3948 - learning_rate: 0.0010\n",
      "Epoch 20/30\n",
      "\u001b[1m42/42\u001b[0m \u001b[32m━━━━━━━━━━━━━━━━━━━━\u001b[0m\u001b[37m\u001b[0m \u001b[1m0s\u001b[0m 3ms/step - accuracy: 0.8639 - loss: 0.3486 - val_accuracy: 0.8156 - val_loss: 0.3945 - learning_rate: 0.0010\n",
      "Epoch 21/30\n",
      "\u001b[1m42/42\u001b[0m \u001b[32m━━━━━━━━━━━━━━━━━━━━\u001b[0m\u001b[37m\u001b[0m \u001b[1m0s\u001b[0m 3ms/step - accuracy: 0.8819 - loss: 0.3190 - val_accuracy: 0.8121 - val_loss: 0.3933 - learning_rate: 0.0010\n",
      "Epoch 22/30\n",
      "\u001b[1m42/42\u001b[0m \u001b[32m━━━━━━━━━━━━━━━━━━━━\u001b[0m\u001b[37m\u001b[0m \u001b[1m0s\u001b[0m 3ms/step - accuracy: 0.8752 - loss: 0.3328 - val_accuracy: 0.8121 - val_loss: 0.3913 - learning_rate: 0.0010\n",
      "Epoch 23/30\n",
      "\u001b[1m42/42\u001b[0m \u001b[32m━━━━━━━━━━━━━━━━━━━━\u001b[0m\u001b[37m\u001b[0m \u001b[1m0s\u001b[0m 3ms/step - accuracy: 0.8624 - loss: 0.3376 - val_accuracy: 0.8156 - val_loss: 0.3909 - learning_rate: 0.0010\n",
      "Epoch 24/30\n",
      "\u001b[1m42/42\u001b[0m \u001b[32m━━━━━━━━━━━━━━━━━━━━\u001b[0m\u001b[37m\u001b[0m \u001b[1m0s\u001b[0m 3ms/step - accuracy: 0.8716 - loss: 0.3227 - val_accuracy: 0.8191 - val_loss: 0.3890 - learning_rate: 0.0010\n",
      "Epoch 25/30\n",
      "\u001b[1m42/42\u001b[0m \u001b[32m━━━━━━━━━━━━━━━━━━━━\u001b[0m\u001b[37m\u001b[0m \u001b[1m0s\u001b[0m 3ms/step - accuracy: 0.8555 - loss: 0.3504 - val_accuracy: 0.8227 - val_loss: 0.3892 - learning_rate: 0.0010\n",
      "Epoch 26/30\n",
      "\u001b[1m42/42\u001b[0m \u001b[32m━━━━━━━━━━━━━━━━━━━━\u001b[0m\u001b[37m\u001b[0m \u001b[1m0s\u001b[0m 3ms/step - accuracy: 0.8770 - loss: 0.3098 - val_accuracy: 0.8156 - val_loss: 0.3885 - learning_rate: 0.0010\n",
      "Epoch 27/30\n",
      "\u001b[1m42/42\u001b[0m \u001b[32m━━━━━━━━━━━━━━━━━━━━\u001b[0m\u001b[37m\u001b[0m \u001b[1m0s\u001b[0m 3ms/step - accuracy: 0.8741 - loss: 0.3300 - val_accuracy: 0.8227 - val_loss: 0.3872 - learning_rate: 0.0010\n",
      "Epoch 28/30\n",
      "\u001b[1m42/42\u001b[0m \u001b[32m━━━━━━━━━━━━━━━━━━━━\u001b[0m\u001b[37m\u001b[0m \u001b[1m0s\u001b[0m 3ms/step - accuracy: 0.8780 - loss: 0.3296 - val_accuracy: 0.8262 - val_loss: 0.3866 - learning_rate: 0.0010\n",
      "Epoch 29/30\n",
      "\u001b[1m42/42\u001b[0m \u001b[32m━━━━━━━━━━━━━━━━━━━━\u001b[0m\u001b[37m\u001b[0m \u001b[1m0s\u001b[0m 3ms/step - accuracy: 0.8555 - loss: 0.3449 - val_accuracy: 0.8262 - val_loss: 0.3856 - learning_rate: 0.0010\n",
      "Epoch 30/30\n",
      "\u001b[1m42/42\u001b[0m \u001b[32m━━━━━━━━━━━━━━━━━━━━\u001b[0m\u001b[37m\u001b[0m \u001b[1m0s\u001b[0m 3ms/step - accuracy: 0.8617 - loss: 0.3424 - val_accuracy: 0.8262 - val_loss: 0.3854 - learning_rate: 0.0010\n"
     ]
    },
    {
     "data": {
      "text/plain": [
       "<keras.src.callbacks.history.History at 0x7a1ea89b0c10>"
      ]
     },
     "execution_count": 17,
     "metadata": {},
     "output_type": "execute_result"
    }
   ],
   "source": [
    "basic_model.fit(\n",
    "    x_train_scaled, y_train,\n",
    "    epochs=30,\n",
    "    validation_data=(x_val_scaled, y_val),\n",
    "    callbacks=callbacks\n",
    ")"
   ]
  },
  {
   "cell_type": "markdown",
   "id": "a58ba20f",
   "metadata": {
    "papermill": {
     "duration": 0.014445,
     "end_time": "2025-03-04T05:38:43.577578",
     "exception": false,
     "start_time": "2025-03-04T05:38:43.563133",
     "status": "completed"
    },
    "tags": []
   },
   "source": [
    "# Evaluation"
   ]
  },
  {
   "cell_type": "code",
   "execution_count": 18,
   "id": "f649e4d1",
   "metadata": {
    "execution": {
     "iopub.execute_input": "2025-03-04T05:38:43.607968Z",
     "iopub.status.busy": "2025-03-04T05:38:43.607557Z",
     "iopub.status.idle": "2025-03-04T05:38:43.710084Z",
     "shell.execute_reply": "2025-03-04T05:38:43.708624Z"
    },
    "papermill": {
     "duration": 0.119899,
     "end_time": "2025-03-04T05:38:43.712072",
     "exception": false,
     "start_time": "2025-03-04T05:38:43.592173",
     "status": "completed"
    },
    "tags": []
   },
   "outputs": [
    {
     "name": "stdout",
     "output_type": "stream",
     "text": [
      "\u001b[1m9/9\u001b[0m \u001b[32m━━━━━━━━━━━━━━━━━━━━\u001b[0m\u001b[37m\u001b[0m \u001b[1m0s\u001b[0m 2ms/step - accuracy: 0.8498 - loss: 0.3877 \n",
      "Loss: 0.3630\n",
      "Accuracy: 85.82%\n"
     ]
    }
   ],
   "source": [
    "loss, accuracy = basic_model.evaluate(x_test_scaled, y_test)\n",
    "print('Loss: {:.4f}'.format(loss))\n",
    "print('Accuracy: {:.2%}'.format(accuracy))\n"
   ]
  },
  {
   "cell_type": "code",
   "execution_count": 19,
   "id": "6abd02c9",
   "metadata": {
    "execution": {
     "iopub.execute_input": "2025-03-04T05:38:43.743861Z",
     "iopub.status.busy": "2025-03-04T05:38:43.743391Z",
     "iopub.status.idle": "2025-03-04T05:38:43.913983Z",
     "shell.execute_reply": "2025-03-04T05:38:43.912546Z"
    },
    "papermill": {
     "duration": 0.188497,
     "end_time": "2025-03-04T05:38:43.916108",
     "exception": false,
     "start_time": "2025-03-04T05:38:43.727611",
     "status": "completed"
    },
    "tags": []
   },
   "outputs": [
    {
     "name": "stdout",
     "output_type": "stream",
     "text": [
      "\u001b[1m9/9\u001b[0m \u001b[32m━━━━━━━━━━━━━━━━━━━━\u001b[0m\u001b[37m\u001b[0m \u001b[1m0s\u001b[0m 5ms/step \n",
      "              precision    recall  f1-score   support\n",
      "\n",
      "           0       0.86      0.87      0.87       180\n",
      "           1       0.77      0.75      0.76       102\n",
      "\n",
      "    accuracy                           0.83       282\n",
      "   macro avg       0.81      0.81      0.81       282\n",
      "weighted avg       0.83      0.83      0.83       282\n",
      "\n"
     ]
    }
   ],
   "source": [
    "from sklearn.metrics import classification_report\n",
    "\n",
    "# Contoh membuat prediksi probabilitas\n",
    "y_probs = basic_model.predict(x_val_scaled)\n",
    "y_preds = (y_probs > 0.5).astype(int)\n",
    "\n",
    "# Evaluasi model\n",
    "print(classification_report(y_val, y_preds))\n"
   ]
  },
  {
   "cell_type": "markdown",
   "id": "a05fe7c4",
   "metadata": {
    "papermill": {
     "duration": 0.014053,
     "end_time": "2025-03-04T05:38:43.944902",
     "exception": false,
     "start_time": "2025-03-04T05:38:43.930849",
     "status": "completed"
    },
    "tags": []
   },
   "source": [
    "pretty solid results! accuracy yang pas nggak overfitting alias kebanyakan belajar, dan loss yang rendah."
   ]
  },
  {
   "cell_type": "markdown",
   "id": "a2e72e70",
   "metadata": {
    "papermill": {
     "duration": 0.013985,
     "end_time": "2025-03-04T05:38:43.973332",
     "exception": false,
     "start_time": "2025-03-04T05:38:43.959347",
     "status": "completed"
    },
    "tags": []
   },
   "source": [
    "# Model Testing"
   ]
  },
  {
   "cell_type": "markdown",
   "id": "d9de88ec",
   "metadata": {
    "papermill": {
     "duration": 0.014066,
     "end_time": "2025-03-04T05:38:44.001767",
     "exception": false,
     "start_time": "2025-03-04T05:38:43.987701",
     "status": "completed"
    },
    "tags": []
   },
   "source": [
    "Misal ada pasien test dengan klasifikasi berikut, apakah dia diabetes atau tidak berdasarkan metrics yang digunakan, ada 39 fitur"
   ]
  },
  {
   "cell_type": "code",
   "execution_count": 20,
   "id": "dfca42d0",
   "metadata": {
    "execution": {
     "iopub.execute_input": "2025-03-04T05:38:44.031970Z",
     "iopub.status.busy": "2025-03-04T05:38:44.031612Z",
     "iopub.status.idle": "2025-03-04T05:38:44.037035Z",
     "shell.execute_reply": "2025-03-04T05:38:44.036043Z"
    },
    "papermill": {
     "duration": 0.02278,
     "end_time": "2025-03-04T05:38:44.038810",
     "exception": false,
     "start_time": "2025-03-04T05:38:44.016030",
     "status": "completed"
    },
    "tags": []
   },
   "outputs": [],
   "source": [
    "feature_columns = ['Age', 'BMI', 'Smoking', 'AlcoholConsumption', 'PhysicalActivity',\n",
    "                   'DietQuality', 'SleepQuality', 'FamilyHistoryDiabetes', 'GestationalDiabetes',\n",
    "                   'PolycysticOvarySyndrome', 'PreviousPreDiabetes', 'Hypertension', 'SystolicBP',\n",
    "                   'DiastolicBP', 'FastingBloodSugar', 'HbA1c', 'SerumCreatinine', 'BUNLevels',\n",
    "                   'CholesterolTotal', 'CholesterolLDL', 'CholesterolHDL', 'CholesterolTriglycerides',\n",
    "                   'AntihypertensiveMedications', 'Statins', 'AntidiabeticMedications', 'FrequentUrination',\n",
    "                   'ExcessiveThirst', 'UnexplainedWeightLoss', 'FatigueLevels', 'BlurredVision',\n",
    "                   'SlowHealingSores', 'TinglingHandsFeet', 'QualityOfLifeScore', 'HeavyMetalsExposure',\n",
    "                   'OccupationalExposureChemicals', 'WaterQuality', 'MedicalCheckupsFrequency',\n",
    "                   'MedicationAdherence', 'HealthLiteracy']"
   ]
  },
  {
   "cell_type": "code",
   "execution_count": 21,
   "id": "1255e685",
   "metadata": {
    "execution": {
     "iopub.execute_input": "2025-03-04T05:38:44.070050Z",
     "iopub.status.busy": "2025-03-04T05:38:44.069701Z",
     "iopub.status.idle": "2025-03-04T05:38:44.153313Z",
     "shell.execute_reply": "2025-03-04T05:38:44.152110Z"
    },
    "papermill": {
     "duration": 0.101295,
     "end_time": "2025-03-04T05:38:44.155210",
     "exception": false,
     "start_time": "2025-03-04T05:38:44.053915",
     "status": "completed"
    },
    "tags": []
   },
   "outputs": [
    {
     "name": "stdout",
     "output_type": "stream",
     "text": [
      "[[-0.85714286 -0.62350146  0.         -0.87406484  0.76233907  0.63768615\n",
      "   0.29760042  0.          0.          0.          0.          0.\n",
      "  -0.54545455 -0.66666667 -0.80586776 -0.73698218 -0.91596095 -0.61826043\n",
      "  -0.71961778 -0.47305742 -0.01141124 -0.74429779  0.          0.\n",
      "   0.          0.          0.          0.         -0.5535522   0.\n",
      "   0.          0.          0.76632613  0.          0.          1.\n",
      "   3.18439563  0.8158987   0.76588408]]\n",
      "\u001b[1m1/1\u001b[0m \u001b[32m━━━━━━━━━━━━━━━━━━━━\u001b[0m\u001b[37m\u001b[0m \u001b[1m0s\u001b[0m 20ms/step\n",
      "Probabilitas Diabetes: 0.012378998100757599\n",
      "Hasil Diagnosa: Tidak Diabetes, Selamat!\n"
     ]
    }
   ],
   "source": [
    "import numpy as np\n",
    "patient_data =  np.array([\n",
    "    25,  # Age\n",
    "    20,  # BMI (Normal)\n",
    "    0,   # Smoking (Tidak merokok)\n",
    "    1,   # AlcoholConsumption (Jarang minum alkohol)\n",
    "    9,   # PhysicalActivity (Sangat aktif)\n",
    "    8,   # DietQuality (Sehat)\n",
    "    8,   # SleepQuality (Tidur cukup)\n",
    "    0,   # FamilyHistoryDiabetes (Tidak ada riwayat keluarga)\n",
    "    0,   # GestationalDiabetes\n",
    "    0,   # PolycysticOvarySyndrome\n",
    "    0,   # PreviousPreDiabetes\n",
    "    0,   # Hypertension\n",
    "    110, # SystolicBP (Normal)\n",
    "    70,  # DiastolicBP (Normal)\n",
    "    85,  # FastingBloodSugar (Normal)\n",
    "    4.9, # HbA1c (Normal)\n",
    "    0.8, # SerumCreatinine (Normal)\n",
    "    15,  # BUNLevels (Normal)\n",
    "    170, # CholesterolTotal (Normal)\n",
    "    90,  # CholesterolLDL (Normal)\n",
    "    60,  # CholesterolHDL (Baik)\n",
    "    100, # CholesterolTriglycerides (Normal)\n",
    "    0,   # AntihypertensiveMedications\n",
    "    0,   # Statins\n",
    "    0,   # AntidiabeticMedications\n",
    "    0,   # FrequentUrination\n",
    "    0,   # ExcessiveThirst\n",
    "    0,   # UnexplainedWeightLoss\n",
    "    2,   # FatigueLevels (Energi bagus)\n",
    "    0,   # BlurredVision\n",
    "    0,   # SlowHealingSores\n",
    "    0,   # TinglingHandsFeet\n",
    "    85,  # QualityOfLifeScore (Bagus)\n",
    "    0,   # HeavyMetalsExposure\n",
    "    0,   # OccupationalExposureChemicals\n",
    "    1,   # WaterQuality\n",
    "    8,   # MedicalCheckupsFrequency (Rajin cek kesehatan)\n",
    "    9,   # MedicationAdherence\n",
    "    9    # HealthLiteracy\n",
    "])\n",
    "\n",
    "#Ubah data patient ke dataframe\n",
    "patient_data = patient_data.reshape(1, -1)\n",
    "patient_df = pd.DataFrame(patient_data, columns=feature_columns)\n",
    "\n",
    "#Scaling sesuai saat training\n",
    "patient_df_scaled = scaler.transform(patient_df)\n",
    "print(patient_df_scaled)\n",
    "\n",
    "#Prediksi\n",
    "prediction = basic_model.predict(patient_df_scaled)[0][0]\n",
    "\n",
    "#Threshold\n",
    "threshold = 0.5\n",
    "result = \"Diabetes\" if prediction > threshold else \"Tidak Diabetes, Selamat!\"\n",
    "\n",
    "print(f\"Probabilitas Diabetes: {prediction}\")\n",
    "print(f\"Hasil Diagnosa: {result}\")\n"
   ]
  }
 ],
 "metadata": {
  "kaggle": {
   "accelerator": "none",
   "dataSources": [
    {
     "datasetId": 5192952,
     "sourceId": 8665939,
     "sourceType": "datasetVersion"
    }
   ],
   "dockerImageVersionId": 30918,
   "isGpuEnabled": false,
   "isInternetEnabled": true,
   "language": "python",
   "sourceType": "notebook"
  },
  "kernelspec": {
   "display_name": "Python 3",
   "language": "python",
   "name": "python3"
  },
  "language_info": {
   "codemirror_mode": {
    "name": "ipython",
    "version": 3
   },
   "file_extension": ".py",
   "mimetype": "text/x-python",
   "name": "python",
   "nbconvert_exporter": "python",
   "pygments_lexer": "ipython3",
   "version": "3.10.12"
  },
  "papermill": {
   "default_parameters": {},
   "duration": 31.612255,
   "end_time": "2025-03-04T05:38:47.275717",
   "environment_variables": {},
   "exception": null,
   "input_path": "__notebook__.ipynb",
   "output_path": "__notebook__.ipynb",
   "parameters": {},
   "start_time": "2025-03-04T05:38:15.663462",
   "version": "2.6.0"
  }
 },
 "nbformat": 4,
 "nbformat_minor": 5
}
